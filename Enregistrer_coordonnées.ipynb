{
 "cells": [
  {
   "cell_type": "code",
   "execution_count": null,
   "id": "ee25774f",
   "metadata": {},
   "outputs": [],
   "source": [
    "import cv2\n",
    "import numpy as np\n",
    "import csv \n",
    "# Create point matrix get coordinates of mouse click on image\n",
    "point_matrix = np.zeros((2,2),np.int)\n",
    " \n",
    "counter = 0\n",
    "def mousePoints(event,x,y,flags,params):\n",
    "    global counter\n",
    "    # Left button mouse click event opencv\n",
    "    if event == cv2.EVENT_LBUTTONDOWN:\n",
    "        point_matrix[counter] = x,y\n",
    "        counter = counter + 1\n",
    " \n",
    "# Read image\n",
    "img = cv2.imread('/home/yasmine/Téléchargements/data_img/img20.jpg')\n",
    " \n",
    "while True:\n",
    "    for x in range (0,2):\n",
    "        cv2.circle(img,(point_matrix[x][0],point_matrix[x][1]),3,(0,255,0),cv2.FILLED)\n",
    " \n",
    "    if counter == 2:\n",
    "        starting_x = point_matrix[0][0]\n",
    "        starting_y = point_matrix[0][1]\n",
    " \n",
    "        ending_x = point_matrix[1][0]\n",
    "        ending_y = point_matrix[1][1]\n",
    "        # Draw rectangle for area of interest\n",
    "        cv2.rectangle(img, (starting_x, starting_y), (ending_x, ending_y), (0, 255, 0), 3)\n",
    "        \n",
    "        # Cropping image\n",
    "        img_cropped = img[starting_y:ending_y, starting_x:ending_x]\n",
    "        nom = input(\"Saisie le nom du champs\")\n",
    "        #cv2.imwrite(nom+\".jpg\",img_cropped)\n",
    "        counter=0\n",
    "        point_matrix = np.zeros((2,2),np.int)\n",
    "        #cv2.imshow(\"ROI\", img_cropped)\n",
    "        \n",
    "        #header=['nom','starting_x','starting_y','ending_x','ending_y']\n",
    "        row=[nom,starting_x,starting_y,ending_x,ending_y]\n",
    "        \n",
    "        with open('/home/yasmine/Téléchargements/file.csv', 'a', encoding='UTF8') as f:\n",
    "            # create the csv writer\n",
    "            writer = csv.writer(f)\n",
    "\n",
    "            # write a row to the csv file\n",
    "            #writer.writerow(header)\n",
    "            #writer.writerow(row)\n",
    "        \n",
    "    #cv2.namedWindow(\"Original Image \", cv2.WINDOW_AUTOSIZE)\n",
    "    # Showing original image\n",
    "    cv2.imshow(\"Original Image \", img)\n",
    "    # Mouse click event on original image\n",
    "    cv2.setMouseCallback(\"Original Image \", mousePoints)\n",
    "    # Printing updated point matrix\n",
    "    #print(point_matrix)\n",
    "    # Refreshing window all time\n",
    "    cv2.waitKey(1)\n",
    "    #cv2.waitKey(0)"
   ]
  },
  {
   "cell_type": "code",
   "execution_count": null,
   "id": "ce672bdd",
   "metadata": {},
   "outputs": [],
   "source": [
    "plt.imshow(img)"
   ]
  },
  {
   "cell_type": "code",
   "execution_count": null,
   "id": "314999b5",
   "metadata": {},
   "outputs": [],
   "source": [
    "mdpe = input(\"Entrez le mot de passe pour accéder à ce niveau : \")"
   ]
  },
  {
   "cell_type": "code",
   "execution_count": 2,
   "id": "879234f4",
   "metadata": {},
   "outputs": [
    {
     "name": "stdout",
     "output_type": "stream",
     "text": [
      "kkk\n"
     ]
    }
   ],
   "source": [
    "print(mdpe)"
   ]
  },
  {
   "cell_type": "code",
   "execution_count": 4,
   "id": "1a6890fc",
   "metadata": {},
   "outputs": [],
   "source": [
    "import cv2\n",
    "img = cv2.imread('/home/yasmine/Téléchargements/data_img/img.jpg')\n",
    "height, width, c=img.shape"
   ]
  },
  {
   "cell_type": "code",
   "execution_count": 5,
   "id": "93217011",
   "metadata": {},
   "outputs": [
    {
     "name": "stdout",
     "output_type": "stream",
     "text": [
      "856 1225\n"
     ]
    }
   ],
   "source": [
    "print(height,width)"
   ]
  },
  {
   "cell_type": "code",
   "execution_count": null,
   "id": "2028215b",
   "metadata": {},
   "outputs": [],
   "source": []
  }
 ],
 "metadata": {
  "kernelspec": {
   "display_name": "Python 3 (ipykernel)",
   "language": "python",
   "name": "python3"
  },
  "language_info": {
   "codemirror_mode": {
    "name": "ipython",
    "version": 3
   },
   "file_extension": ".py",
   "mimetype": "text/x-python",
   "name": "python",
   "nbconvert_exporter": "python",
   "pygments_lexer": "ipython3",
   "version": "3.8.10"
  }
 },
 "nbformat": 4,
 "nbformat_minor": 5
}
