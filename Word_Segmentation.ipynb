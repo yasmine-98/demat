{
 "cells": [
  {
   "cell_type": "code",
   "execution_count": 1,
   "id": "42de485c",
   "metadata": {},
   "outputs": [],
   "source": [
    "import matplotlib.pyplot as plt\n",
    "import cv2\n",
    "import numpy as np\n",
    "import os\n",
    "import csv"
   ]
  },
  {
   "cell_type": "code",
   "execution_count": 29,
   "id": "62c5d19e",
   "metadata": {},
   "outputs": [],
   "source": [
    "path=\"/home/yasmine/Téléchargements/data_img/img20.jpg\"\n",
    "image=cv2.imread(path)\n",
    "with open('/home/yasmine/Téléchargements/file.csv') as csv_file:\n",
    "    csv_reader = csv.reader(csv_file, delimiter=',')\n",
    "    for row in csv_reader:\n",
    "        #print(row)\n",
    "        if row[0]==\"montant_en_lettres\":\n",
    "            img_cropped = image[int(row[2]):int(row[4]), int(row[1]):int(row[3])]\n",
    "            cv2.imwrite('montant_en_lettres.jpg',img_cropped)\n",
    "        elif row[0]==\"montant_en_chiffres\":\n",
    "            img_cropped = image[int(row[2]):int(row[4]), int(row[1]):int(row[3])]\n",
    "            cv2.imwrite('montant_en_chiffres.jpg',img_cropped)\n",
    "\n",
    "            "
   ]
  },
  {
   "cell_type": "code",
   "execution_count": 2,
   "id": "da9924d0",
   "metadata": {},
   "outputs": [],
   "source": [
    "def preprocessing(path):\n",
    "    image = cv2.imread(path)\n",
    "    im_gray = cv2.cvtColor(image, cv2.COLOR_BGR2GRAY)\n",
    "    h,w=im_gray.shape\n",
    "    #cv2.imwrite('img.jpg',result)\n",
    "    #image=cv2.imread('img.jpg')\n",
    "    #gray = cv2.cvtColor(image, cv2.COLOR_BGR2GRAY)\n",
    "    image = cv2.GaussianBlur(im_gray, (5,5), 1)\n",
    "    #plt.imshow(image)\n",
    "    th =  cv2.adaptiveThreshold(im_gray,255,cv2.ADAPTIVE_THRESH_GAUSSIAN_C,cv2.THRESH_BINARY,3,2)\n",
    "    #plt.imshow(th)\n",
    "    #cv2.imwrite('img.jpg',th)\n",
    "    #image=cv2.imread('img.jpg')\n",
    "    #gray = cv2.cvtColor(th, cv2.COLOR_BGR2GRAY)\n",
    "    #plt.imshow(gray)\n",
    "    contours, hierarchy = cv2.findContours(th, cv2.RETR_TREE, cv2.CHAIN_APPROX_SIMPLE)\n",
    "    #cv2.drawContours(img, contours, -1, (0,255,0), 2)\n",
    "    # create an empty mask\n",
    "    mask = np.zeros(image.shape[:2], dtype=np.uint8)\n",
    "\n",
    "    # loop through the contours\n",
    "    for i, cnt in enumerate(contours):\n",
    "        # if the contour has no other contours inside of it\n",
    "        if hierarchy[0][i][2] == -1:\n",
    "            # if the size of the contour is greater than a threshold\n",
    "            if cv2.contourArea(cnt) <70:\n",
    "                cv2.drawContours(mask, [cnt], 0, (255), -1)\n",
    "    #plt.imshow(mask)\n",
    "    result=th+mask\n",
    "    #plt.imshow(result)\n",
    "    result = cv2.GaussianBlur(result, (3,3), 0)\n",
    "    #plt.imshow(result)\n",
    "    thresh = cv2.threshold(im_gray, 0, 255, cv2.THRESH_BINARY_INV + cv2.THRESH_OTSU)[1]\n",
    "\n",
    "    horizontal_kernel = cv2.getStructuringElement(cv2.MORPH_RECT, (25, 1))\n",
    "    detected_lines = cv2.morphologyEx(thresh, cv2.MORPH_OPEN,\n",
    "    horizontal_kernel, iterations=2)\n",
    "\n",
    "    cnts = cv2.findContours(detected_lines, cv2.RETR_EXTERNAL, cv2.CHAIN_APPROX_SIMPLE)\n",
    "    cnts = cnts[0] if len(cnts) == 2 else cnts[1]\n",
    "\n",
    "    for c in cnts:\n",
    "        cv2.drawContours(result, [c], -1, (255, 255, 255), 2)\n",
    "    #plt.imshow(result)\n",
    "    repair_kernel = cv2.getStructuringElement(cv2.MORPH_RECT, (1, 6))\n",
    "    result =255 -  cv2.morphologyEx(255 - result, cv2.MORPH_CLOSE, repair_kernel,\n",
    "                                iterations=1)\n",
    "\n",
    "\n",
    "    \n",
    "    return result"
   ]
  },
  {
   "cell_type": "code",
   "execution_count": 3,
   "id": "803e2463",
   "metadata": {},
   "outputs": [],
   "source": [
    "def projection(result):\n",
    "    #gray = cv2.cvtColor(result, cv2.COLOR_BGR2GRAY)\n",
    "    _, binarizedImage = cv2.threshold(result, 127, 255, cv2.THRESH_BINARY)\n",
    "    binarizedImage[binarizedImage == 0] = 1\n",
    "    binarizedImage[binarizedImage == 255] = 0\n",
    "    vertical_projection = np.sum(binarizedImage, axis=0)\n",
    "    for i in range(len(vertical_projection)):\n",
    "        if vertical_projection[i]<4:\n",
    "            vertical_projection[i]=0\n",
    "            \n",
    "    return vertical_projection "
   ]
  },
  {
   "cell_type": "code",
   "execution_count": 4,
   "id": "71fe85b5",
   "metadata": {},
   "outputs": [],
   "source": [
    "def segmentation(width,height,inputImage):\n",
    "    \n",
    "    start=0\n",
    "    end=0\n",
    "    j=0\n",
    "    for row in range(width):\n",
    "        #print(row,vertical_projection[row])\n",
    "        #print(horizontal_projection[row+1])\n",
    "        if vertical_projection[row-1]==0 and vertical_projection[row]!=0 and veriferavant(row-1)>15:\n",
    "        \n",
    "            start=row-2\n",
    "            #print(\"s\",start)\n",
    "        #print(veriferarriere(row+1,width))\n",
    "        if vertical_projection[row-1]!=0 and vertical_projection[row]==0  and veriferarriere(row,width)>15:\n",
    "            end=row+1\n",
    "            #print(\"e\",end)\n",
    "            \n",
    "            if(end-start>50):\n",
    "                print(\"s\",start)\n",
    "                print(\"e\",end)\n",
    "                roi=inputImage[0:height,start:end]\n",
    "                #roi=cv2.resize(roi, (400, 340)) \n",
    "                cv2.imwrite(\"words/word\"+str(j)+\".png\",roi)\n",
    "                start=0\n",
    "                end=0\n",
    "                #plt.imshow(roi)\n",
    "                j=j+1\n",
    "        if start!=0 and end==0 and row==width-1:\n",
    "            roi=inputImage[0:height,start:width]\n",
    "            #roi=cv2.resize(roi, (400, 340)) \n",
    "            cv2.imwrite(\"words/word\"+str(j)+\".png\",roi)\n",
    "            j=j+1\n",
    "  \n",
    "            \n",
    "            \n",
    "    "
   ]
  },
  {
   "cell_type": "code",
   "execution_count": 5,
   "id": "9623a477",
   "metadata": {},
   "outputs": [],
   "source": [
    "def veriferavant(row):\n",
    "    #print(row)\n",
    "    n=0\n",
    "    i=1\n",
    "    while vertical_projection[row-i]==0:\n",
    "        #print(row-i)\n",
    "        n=n+1\n",
    "        i=i+1\n",
    "        if n > 15:\n",
    "            break\n",
    "    #print(n)\n",
    "    return n\n",
    "def veriferarriere(row,width):\n",
    "    n=0\n",
    "    i=1\n",
    "    \n",
    "    #r=row+i\n",
    "    if((row+i) < int(width)-1) :\n",
    "        \n",
    "        while vertical_projection[row+i]==0 :\n",
    "            n=n+1\n",
    "            #print(\"n=\",n)\n",
    "            i=i+1\n",
    "        \n",
    "            if n > 15 or row+i>int(width)-1:\n",
    "                print(n)\n",
    "                break\n",
    "    return n   "
   ]
  },
  {
   "cell_type": "code",
   "execution_count": 6,
   "id": "0101dc26",
   "metadata": {},
   "outputs": [
    {
     "name": "stdout",
     "output_type": "stream",
     "text": [
      "[ 0  0  0  8  4  0  0  4  6  5  0  0  0  0  7  9 16 11  7  8  6  7 10  9\n",
      "  7  7  6  7  9  9  9  7  6  7  8  7  8 11 15 10  4  6  8 10  5  5 11 11\n",
      " 11 10  9 11 12 12 11  8  6  5  5  4  4  0  0  0  0  4  8  8 30 37 18  8\n",
      " 12 11 13 14  8  7  8  5  5  4  4  4  5  6  5  9 13  7  0  0  0  0 12 16\n",
      " 25 16 16 14 16 15 15  0  0  0  0  0  0  0  0  0  0  0  0  0  0  0  0  0\n",
      "  0  0  0  0  0  9 14  9  7  8  7  5  7 10 11  9  5  6  5  7  7  7  4  0\n",
      "  0  0  0  0  0  0  0  0  8 13 16 11  8 11  9  9 13 10 10 12 14 25 30 20\n",
      " 11  9 13 12 11  0  0  4  4  6 12 13  4  0  0  0  0  0  4  0  0  4 10 13\n",
      "  5  4  5  4  0  0  0  0  0  0  0  0  0  0  0  0  0  0  0  0 54 54 33 16\n",
      " 12 11  5  0  0  0  0  0  0  0  0  0  0  0  0  0  0  0  0  0  0  0  0  0\n",
      "  0  0  0  0  0  0  0  0  0  0  0  0  0  0  0  0  0 16 29 21 14 13 10  9\n",
      "  4  0  0  0  7 44 44 17  0  0  4  4  0  4  5  5  7  7  8  4  5  7  5  7\n",
      "  5  6  7  8  8  9  8 15 17  9  0  0  0  0  0  6 12 13 12 10  9  6  4  0\n",
      "  6  6  9  6  4  9  4  5  5  6  6  0  0  5  5  5  4  4  5  8  6  4  0  0\n",
      "  4  0  0  0  0  7 10 11  6  5  5  4  4  5  4  4  5  4  5  5  5  5  4  7\n",
      " 11 13 14  5  0  0  0  0  0  0  0  0  0  9  9 10  4  0  0  0  0  0  0  0\n",
      "  0  0  0  0  0  0  0  7  9 10 12 13  7 10  8  8  4  4  5  5  5  6  5  6\n",
      "  7  6  6 12 11  9  6  0  0  0  0  0  0  0  0  0  0  0  0  0  0  0  0  0\n",
      "  0  0  0  0  0  0  0  0  0  0  0  0  0  0  0  0  0  0  0  0  0  0  0  0\n",
      "  0]\n",
      "16\n",
      "s 1\n",
      "e 104\n",
      "16\n",
      "s 123\n",
      "e 220\n",
      "16\n",
      "s 255\n",
      "e 416\n"
     ]
    },
    {
     "data": {
      "image/png": "[encoded data removed]",
      "text/plain": [
       "<Figure size 432x288 with 1 Axes>"
      ]
     },
     "metadata": {
      "needs_background": "light"
     },
     "output_type": "display_data"
    }
   ],
   "source": [
    "result=preprocessing('montant_en_lettres.jpg')\n",
    "plt.imshow(result)\n",
    "\n",
    "vertical_projection =projection(result)\n",
    "print(vertical_projection)\n",
    "h,w=result.shape\n",
    "segmentation(w,h,result)"
   ]
  },
  {
   "cell_type": "code",
   "execution_count": 10,
   "id": "5714e8d7",
   "metadata": {},
   "outputs": [
    {
     "name": "stdout",
     "output_type": "stream",
     "text": [
      "[ 0  0  0  0  0  0  0  0  0  0  0  0  0  0  0  0  0  0  0  0  0  0  0  0\n",
      "  0  0  0  0  0  0  0  0  0  0  5  6  9  0  0  0  5  7  9  9  9  5  4  4\n",
      "  4  4  4  4  0 24 39 24 15  9  9 10 12 11 11 11 10 10  8  6  0  0  0  0\n",
      " 10 12  8  9  7  7  4  4  5  5  4  4  4  5  0  0  0  0  5  4  5  6  5  5\n",
      "  6 14 11  7  0  0  0  0 12 14 15 11  5  0  4  5  6  6  4  5  5  6  9  6\n",
      "  0  0  0  0  0  0  0  0  0  0  0  0  0  0  0  0  0  5 10 11  9  6  0  0\n",
      "  0  0  0  0  0  5  5  5  4  0  4  6  6 12 25 33 32  4  4  5  5  5  4  5\n",
      "  4  5  4  5  6  6  6  6  6  6 11 12 11 11 20 18  6  0  0  0  0  8 19 13\n",
      "  9  0  0  0 26 33 33  0  0  0  0  0  0  0  4  5 11 22 16  5  0  0  0  0\n",
      "  0  0  0  0  0  0  0  0  0  0  0  0  0  0  0  0  0  0  0  0  0  0  0  0\n",
      "  0  0  0  0  0  0  0  0  0  0  0  0  0  0  0  0  0  0  0  0  0  0  0  0\n",
      "  0  0  0  0  0  0  0  0  0  0  0  0  0  0  0  0  0  0  0  0  0  0  0  0\n",
      "  0  0  0  0  0  0  0  0  0  0  0  0  0  0  0  0  0  0  0  0  0  0  0  0\n",
      "  0  0  0  0  0  0  0  0  0  0  0  0  0  0  0  0  0  0  0  0  0  0  0  0\n",
      "  0  0  0  0  0  0  0  0  0  0  0  0  0  0]\n",
      "16\n",
      "s 32\n",
      "e 121\n",
      "16\n",
      "s 135\n",
      "e 213\n"
     ]
    },
    {
     "data": {
      "image/png": "[encoded data removed]",
      "text/plain": [
       "<Figure size 432x288 with 1 Axes>"
      ]
     },
     "metadata": {
      "needs_background": "light"
     },
     "output_type": "display_data"
    }
   ],
   "source": [
    "result=preprocessing('montant_en_chiffres.jpg')\n",
    "plt.imshow(result)\n",
    "\n",
    "vertical_projection =projection(result)\n",
    "print(vertical_projection)\n",
    "h,w=result.shape\n",
    "segmentation(w,h,result)"
   ]
  }
 ],
 "metadata": {
  "kernelspec": {
   "display_name": "Python 3 (ipykernel)",
   "language": "python",
   "name": "python3"
  },
  "language_info": {
   "codemirror_mode": {
    "name": "ipython",
    "version": 3
   },
   "file_extension": ".py",
   "mimetype": "text/x-python",
   "name": "python",
   "nbconvert_exporter": "python",
   "pygments_lexer": "ipython3",
   "version": "3.8.10"
  }
 },
 "nbformat": 4,
 "nbformat_minor": 5
}
