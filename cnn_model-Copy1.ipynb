{
 "cells": [
  {
   "cell_type": "code",
   "execution_count": 1,
   "id": "516c5597",
   "metadata": {},
   "outputs": [
    {
     "name": "stderr",
     "output_type": "stream",
     "text": [
      "2022-05-12 16:15:36.696459: W tensorflow/stream_executor/platform/default/dso_loader.cc:64] Could not load dynamic library 'libcudart.so.11.0'; dlerror: libcudart.so.11.0: cannot open shared object file: No such file or directory\n",
      "2022-05-12 16:15:36.696497: I tensorflow/stream_executor/cuda/cudart_stub.cc:29] Ignore above cudart dlerror if you do not have a GPU set up on your machine.\n"
     ]
    }
   ],
   "source": [
    "from tensorflow.keras.preprocessing.image import ImageDataGenerator\n",
    "from tensorflow.keras.optimizers import SGD\n",
    "from sklearn.preprocessing import LabelBinarizer\n",
    "from sklearn.metrics import classification_report\n",
    "from tensorflow.keras.models import load_model\n",
    "from imutils.contours import sort_contours\n",
    "from imutils import build_montages\n",
    "import matplotlib.pyplot as plt\n",
    "import numpy as np\n",
    "import cv2\n",
    "#from google.colab.patches import cv2_imshow\n",
    "from keras.datasets import mnist\n",
    "import PIL\n",
    "import seaborn as sns\n",
    "import os\n",
    "from sklearn.preprocessing import MinMaxScaler\n",
    "import tensorflow as tf\n",
    "from keras import backend as K\n",
    "from keras.utils import np_utils\n",
    "from sklearn.model_selection import train_test_split\n",
    "from sklearn.metrics import confusion_matrix\n",
    "from keras.models import Sequential\n",
    "from keras.layers import Dense, Activation, Dropout, Flatten, MaxPooling2D, BatchNormalization, Reshape\n",
    "#from keras.optimizers import SGD, Adam\n",
    "from keras.callbacks import ReduceLROnPlateau, EarlyStopping\n",
    "#from keras.utils import to_categorical\n",
    "from sklearn.model_selection import train_test_split\n",
    "from sklearn.utils import shuffle\n",
    "from tensorflow.keras.callbacks import Callback, ReduceLROnPlateau\n",
    "from tensorflow.keras.optimizers import Adam\n",
    "from sklearn.metrics import classification_report, confusion_matrix, accuracy_score, plot_confusion_matrix"
   ]
  },
  {
   "cell_type": "code",
   "execution_count": 2,
   "id": "7039a7e2",
   "metadata": {},
   "outputs": [],
   "source": [
    "def load_az_dataset(datasetPath):\n",
    "    # initialize the list of data and labels\n",
    "    data = []\n",
    "    labels = []\n",
    "    # loop over the rows of the A-Z handwritten digit dataset\n",
    "    for row in open(datasetPath):\n",
    "        # parse the label and image from the row\n",
    "        row = row.split(\",\")\n",
    "        label = int(row[0])\n",
    "        image = np.array([int(x) for x in row[1:]], dtype=\"uint8\")\n",
    "        # images are represented as single channel (grayscale) images\n",
    "        # that are 28x28=784 pixels -- we need to take this flattened\n",
    "        # 784-d list of numbers and repshape them into a 28x28 matrix\n",
    "        image = image.reshape((28, 28))\n",
    "        # update the list of data and labels\n",
    "        data.append(image)\n",
    "        labels.append(label)\n",
    "        # convert the data and labels to NumPy arrays\n",
    "    data = np.array(data, dtype=\"float32\")\n",
    "    labels = np.array(labels, dtype=\"int\")\n",
    "    # return a 2-tuple of the A-Z data and labels\n",
    "    return (data, labels)"
   ]
  },
  {
   "cell_type": "code",
   "execution_count": 3,
   "id": "6cc78659",
   "metadata": {},
   "outputs": [],
   "source": [
    "def load_mnist_dataset():\n",
    "    # load the MNIST dataset and stack the training data and testing\n",
    "    ((trainData, trainLabels), (testData, testLabels)) = mnist.load_data()\n",
    "    data = np.vstack([trainData, testData])\n",
    "    labels = np.hstack([trainLabels, testLabels])\n",
    "    # return a 2-tuple of the MNIST data and labels\n",
    "    return (data, labels)"
   ]
  },
  {
   "cell_type": "code",
   "execution_count": 4,
   "id": "2664f1fa",
   "metadata": {},
   "outputs": [
    {
     "name": "stdout",
     "output_type": "stream",
     "text": [
      "[INFO] loading datasets...\n"
     ]
    }
   ],
   "source": [
    "print(\"[INFO] loading datasets...\")\n",
    "(azData, azLabels) =load_az_dataset('A_Z Handwritten Data.csv')\n",
    "(digitsData, digitsLabels) = load_mnist_dataset()"
   ]
  },
  {
   "cell_type": "code",
   "execution_count": null,
   "id": "6bf164e4",
   "metadata": {},
   "outputs": [],
   "source": [
    "# construct the image generator for data augmentation\n",
    "aug = ImageDataGenerator(\n",
    "    rotation_range=10,\n",
    "    zoom_range=0.05,\n",
    "    width_shift_range=0.1,\n",
    "    height_shift_range=0.1,\n",
    "    shear_range=0.15,\n",
    "    horizontal_flip=False,\n",
    "    fill_mode=\"nearest\")"
   ]
  },
  {
   "cell_type": "code",
   "execution_count": 6,
   "id": "fb0fc954",
   "metadata": {},
   "outputs": [],
   "source": [
    "azLabels += 10\n",
    "\n",
    "# stack the A-Z data and labels with the MNIST digits data and labels\n",
    "data = np.vstack([azData, digitsData])\n",
    "labels = np.hstack([azLabels, digitsLabels])"
   ]
  },
  {
   "cell_type": "code",
   "execution_count": 7,
   "id": "eb1adcda",
   "metadata": {},
   "outputs": [],
   "source": [
    "# each image in the A-Z and MNIST digts datasets are 28x28 pixels;\n",
    "# however, the architecture we're using is designed for 32x32 images,\n",
    "# so we need to resize them to 32x32\n",
    "#data = [cv2.resize(image, (32, 32)) for image in data]\n",
    "data=data.reshape(data.shape[0],28,28,1)\n",
    "data = np.array(data, dtype=\"float32\")\n",
    "\n",
    "# add a channel dimension to every image in the dataset and scale the\n",
    "# pixel intensities of the images from [0, 255] down to [0, 1]\n",
    "#data = np.expand_dims(data, axis=-1)\n",
    "data /= 255.0"
   ]
  },
  {
   "cell_type": "code",
   "execution_count": 8,
   "id": "2d2bf853",
   "metadata": {},
   "outputs": [],
   "source": [
    "# convert the labels from integers to vectors\n",
    "le = LabelBinarizer()\n",
    "labels = le.fit_transform(labels)\n",
    "counts = labels.sum(axis=0)"
   ]
  },
  {
   "cell_type": "code",
   "execution_count": 9,
   "id": "ad846d13",
   "metadata": {},
   "outputs": [],
   "source": [
    "# account for skew in the labeled data\n",
    "classTotals = labels.sum(axis=0)\n",
    "classWeight = {}\n",
    "\n",
    "\n",
    "# loop over all classes and calculate the class weight\n",
    "for i in range(0, len(classTotals)):\n",
    "    classWeight[i] = classTotals.max() / classTotals[i]"
   ]
  },
  {
   "cell_type": "code",
   "execution_count": 10,
   "id": "5abd5afe",
   "metadata": {},
   "outputs": [
    {
     "name": "stdout",
     "output_type": "stream",
     "text": [
      "(442451, 28, 28, 1)\n",
      "(442451, 36)\n"
     ]
    }
   ],
   "source": [
    "print(data.shape)\n",
    "print(labels.shape)"
   ]
  },
  {
   "cell_type": "code",
   "execution_count": 11,
   "id": "68fb98a1",
   "metadata": {},
   "outputs": [],
   "source": [
    "(trainX, testX, trainY, testY) = train_test_split(data,\n",
    "    labels, test_size=0.20, random_state=42)"
   ]
  },
  {
   "cell_type": "code",
   "execution_count": 12,
   "id": "79cc8e61",
   "metadata": {},
   "outputs": [
    {
     "name": "stdout",
     "output_type": "stream",
     "text": [
      "(353960, 28, 28, 1)\n",
      "(353960, 36)\n",
      "(88491, 28, 28, 1)\n",
      "(88491, 36)\n"
     ]
    }
   ],
   "source": [
    "print(trainX.shape)\n",
    "print(trainY.shape)\n",
    "print(testX.shape)\n",
    "print(testY.shape)"
   ]
  },
  {
   "cell_type": "code",
   "execution_count": 47,
   "id": "5fe80ed6",
   "metadata": {},
   "outputs": [],
   "source": [
    "class myCallback(Callback):\n",
    "    def on_epoch_end(self, epoch, logs={}):\n",
    "        if(logs.get('accuracy') is not None and logs.get('accuracy')>=0.95):\n",
    "          print(\"\\nReached 95% accuracy so cancelling training!\")\n",
    "          self.model.stop_training = True\n",
    "\n",
    "callbacks = myCallback()"
   ]
  },
  {
   "cell_type": "code",
   "execution_count": 13,
   "id": "2f51a1b8",
   "metadata": {},
   "outputs": [],
   "source": [
    "from keras.callbacks import EarlyStopping\n",
    "es = EarlyStopping(monitor='accuracy', mode='max', verbose=1)"
   ]
  },
  {
   "cell_type": "code",
   "execution_count": null,
   "id": "ba73e2da",
   "metadata": {},
   "outputs": [],
   "source": []
  },
  {
   "cell_type": "code",
   "execution_count": 98,
   "id": "8247729c",
   "metadata": {},
   "outputs": [],
   "source": [
    "model = Sequential()\n",
    "# convolutional layer\n",
    "model.add(Conv2D(25, kernel_size=(3,3), strides=(1,1), padding='valid', activation='relu', input_shape=(28,28,1)))\n",
    "model.add(MaxPool2D(pool_size=(1,1)))\n",
    "# flatten output of conv\n",
    "model.add(Flatten())\n",
    "# hidden layer\n",
    "model.add(Dense(100, activation='relu'))\n",
    "# output layer\n",
    "model.add(Dense(36, activation='softmax'))"
   ]
  },
  {
   "cell_type": "code",
   "execution_count": 100,
   "id": "c5505eba",
   "metadata": {},
   "outputs": [],
   "source": [
    "model.compile(loss='categorical_crossentropy', metrics=['accuracy'], optimizer='adam')"
   ]
  },
  {
   "cell_type": "code",
   "execution_count": 101,
   "id": "8f2fdad1",
   "metadata": {},
   "outputs": [
    {
     "name": "stdout",
     "output_type": "stream",
     "text": [
      "Epoch 1/10\n",
      "2766/2766 [==============================] - 332s 119ms/step - loss: 2.9283 - accuracy: 0.7881\n",
      "Epoch 2/10\n",
      "2766/2766 [==============================] - 200s 72ms/step - loss: 1.5261 - accuracy: 0.8684\n",
      "Epoch 3/10\n",
      "2766/2766 [==============================] - 219s 79ms/step - loss: 1.2915 - accuracy: 0.8849\n",
      "Epoch 4/10\n",
      "2766/2766 [==============================] - 198s 72ms/step - loss: 1.1714 - accuracy: 0.8948\n",
      "Epoch 5/10\n",
      "2766/2766 [==============================] - 192s 69ms/step - loss: 1.0811 - accuracy: 0.9006\n",
      "Epoch 6/10\n",
      "2766/2766 [==============================] - 183s 66ms/step - loss: 1.0271 - accuracy: 0.9055\n",
      "Epoch 7/10\n",
      "2766/2766 [==============================] - 176s 64ms/step - loss: 0.9693 - accuracy: 0.9090\n",
      "Epoch 8/10\n",
      "2766/2766 [==============================] - 374s 135ms/step - loss: 0.9307 - accuracy: 0.9122\n",
      "Epoch 9/10\n",
      "2766/2766 [==============================] - 359s 128ms/step - loss: 0.9008 - accuracy: 0.9149\n",
      "Epoch 10/10\n",
      "2766/2766 [==============================] - 207s 74ms/step - loss: 0.8723 - accuracy: 0.9162\n"
     ]
    }
   ],
   "source": [
    "history = model.fit(aug.flow(trainX, trainY,128), epochs=10, batch_size=128, class_weight=classWeight)"
   ]
  },
  {
   "cell_type": "code",
   "execution_count": null,
   "id": "72bb1595",
   "metadata": {},
   "outputs": [],
   "source": []
  },
  {
   "cell_type": "code",
   "execution_count": 80,
   "id": "66930e1f",
   "metadata": {},
   "outputs": [
    {
     "ename": "ValueError",
     "evalue": "Input 0 of layer \"conv2d_20\" is incompatible with the layer: expected min_ndim=4, found ndim=2. Full shape received: (None, 128)",
     "output_type": "error",
     "traceback": [
      "\u001b[0;31m---------------------------------------------------------------------------\u001b[0m",
      "\u001b[0;31mValueError\u001b[0m                                Traceback (most recent call last)",
      "Input \u001b[0;32mIn [80]\u001b[0m, in \u001b[0;36m<cell line: 18>\u001b[0;34m()\u001b[0m\n\u001b[1;32m     15\u001b[0m model\u001b[38;5;241m.\u001b[39madd(Dense(\u001b[38;5;241m128\u001b[39m,activation \u001b[38;5;241m=\u001b[39m\u001b[38;5;124m\"\u001b[39m\u001b[38;5;124mrelu\u001b[39m\u001b[38;5;124m\"\u001b[39m))\n\u001b[1;32m     16\u001b[0m model\u001b[38;5;241m.\u001b[39madd(Dropout(\u001b[38;5;241m0.5\u001b[39m))\n\u001b[0;32m---> 18\u001b[0m \u001b[43mmodel\u001b[49m\u001b[38;5;241;43m.\u001b[39;49m\u001b[43madd\u001b[49m\u001b[43m(\u001b[49m\u001b[43mConv2D\u001b[49m\u001b[43m(\u001b[49m\u001b[43mfilters\u001b[49m\u001b[38;5;241;43m=\u001b[39;49m\u001b[38;5;241;43m64\u001b[39;49m\u001b[43m,\u001b[49m\u001b[43m \u001b[49m\u001b[43mkernel_size\u001b[49m\u001b[38;5;241;43m=\u001b[39;49m\u001b[43m(\u001b[49m\u001b[38;5;241;43m3\u001b[39;49m\u001b[43m,\u001b[49m\u001b[43m \u001b[49m\u001b[38;5;241;43m3\u001b[39;49m\u001b[43m)\u001b[49m\u001b[43m,\u001b[49m\u001b[43m \u001b[49m\u001b[43mactivation\u001b[49m\u001b[38;5;241;43m=\u001b[39;49m\u001b[38;5;124;43m'\u001b[39;49m\u001b[38;5;124;43mrelu\u001b[39;49m\u001b[38;5;124;43m'\u001b[39;49m\u001b[43m,\u001b[49m\u001b[43m \u001b[49m\u001b[43mpadding\u001b[49m\u001b[43m \u001b[49m\u001b[38;5;241;43m=\u001b[39;49m\u001b[43m \u001b[49m\u001b[38;5;124;43m'\u001b[39;49m\u001b[38;5;124;43msame\u001b[39;49m\u001b[38;5;124;43m'\u001b[39;49m\u001b[43m)\u001b[49m\u001b[43m)\u001b[49m\n\u001b[1;32m     19\u001b[0m model\u001b[38;5;241m.\u001b[39madd(MaxPool2D(pool_size\u001b[38;5;241m=\u001b[39m(\u001b[38;5;241m2\u001b[39m, \u001b[38;5;241m2\u001b[39m), strides\u001b[38;5;241m=\u001b[39m\u001b[38;5;241m2\u001b[39m))\n\u001b[1;32m     21\u001b[0m model\u001b[38;5;241m.\u001b[39madd(Conv2D(filters\u001b[38;5;241m=\u001b[39m\u001b[38;5;241m128\u001b[39m, kernel_size\u001b[38;5;241m=\u001b[39m(\u001b[38;5;241m3\u001b[39m, \u001b[38;5;241m3\u001b[39m), activation\u001b[38;5;241m=\u001b[39m\u001b[38;5;124m'\u001b[39m\u001b[38;5;124mrelu\u001b[39m\u001b[38;5;124m'\u001b[39m, padding \u001b[38;5;241m=\u001b[39m \u001b[38;5;124m'\u001b[39m\u001b[38;5;124mvalid\u001b[39m\u001b[38;5;124m'\u001b[39m))\n",
      "File \u001b[0;32m~/jupyter/environment/lib/python3.8/site-packages/tensorflow/python/training/tracking/base.py:629\u001b[0m, in \u001b[0;36mno_automatic_dependency_tracking.<locals>._method_wrapper\u001b[0;34m(self, *args, **kwargs)\u001b[0m\n\u001b[1;32m    627\u001b[0m \u001b[38;5;28mself\u001b[39m\u001b[38;5;241m.\u001b[39m_self_setattr_tracking \u001b[38;5;241m=\u001b[39m \u001b[38;5;28;01mFalse\u001b[39;00m  \u001b[38;5;66;03m# pylint: disable=protected-access\u001b[39;00m\n\u001b[1;32m    628\u001b[0m \u001b[38;5;28;01mtry\u001b[39;00m:\n\u001b[0;32m--> 629\u001b[0m   result \u001b[38;5;241m=\u001b[39m \u001b[43mmethod\u001b[49m\u001b[43m(\u001b[49m\u001b[38;5;28;43mself\u001b[39;49m\u001b[43m,\u001b[49m\u001b[43m \u001b[49m\u001b[38;5;241;43m*\u001b[39;49m\u001b[43margs\u001b[49m\u001b[43m,\u001b[49m\u001b[43m \u001b[49m\u001b[38;5;241;43m*\u001b[39;49m\u001b[38;5;241;43m*\u001b[39;49m\u001b[43mkwargs\u001b[49m\u001b[43m)\u001b[49m\n\u001b[1;32m    630\u001b[0m \u001b[38;5;28;01mfinally\u001b[39;00m:\n\u001b[1;32m    631\u001b[0m   \u001b[38;5;28mself\u001b[39m\u001b[38;5;241m.\u001b[39m_self_setattr_tracking \u001b[38;5;241m=\u001b[39m previous_value  \u001b[38;5;66;03m# pylint: disable=protected-access\u001b[39;00m\n",
      "File \u001b[0;32m~/jupyter/environment/lib/python3.8/site-packages/keras/utils/traceback_utils.py:67\u001b[0m, in \u001b[0;36mfilter_traceback.<locals>.error_handler\u001b[0;34m(*args, **kwargs)\u001b[0m\n\u001b[1;32m     65\u001b[0m \u001b[38;5;28;01mexcept\u001b[39;00m \u001b[38;5;167;01mException\u001b[39;00m \u001b[38;5;28;01mas\u001b[39;00m e:  \u001b[38;5;66;03m# pylint: disable=broad-except\u001b[39;00m\n\u001b[1;32m     66\u001b[0m   filtered_tb \u001b[38;5;241m=\u001b[39m _process_traceback_frames(e\u001b[38;5;241m.\u001b[39m__traceback__)\n\u001b[0;32m---> 67\u001b[0m   \u001b[38;5;28;01mraise\u001b[39;00m e\u001b[38;5;241m.\u001b[39mwith_traceback(filtered_tb) \u001b[38;5;28;01mfrom\u001b[39;00m \u001b[38;5;28mNone\u001b[39m\n\u001b[1;32m     68\u001b[0m \u001b[38;5;28;01mfinally\u001b[39;00m:\n\u001b[1;32m     69\u001b[0m   \u001b[38;5;28;01mdel\u001b[39;00m filtered_tb\n",
      "File \u001b[0;32m~/jupyter/environment/lib/python3.8/site-packages/keras/engine/input_spec.py:228\u001b[0m, in \u001b[0;36massert_input_compatibility\u001b[0;34m(input_spec, inputs, layer_name)\u001b[0m\n\u001b[1;32m    226\u001b[0m   ndim \u001b[38;5;241m=\u001b[39m x\u001b[38;5;241m.\u001b[39mshape\u001b[38;5;241m.\u001b[39mrank\n\u001b[1;32m    227\u001b[0m   \u001b[38;5;28;01mif\u001b[39;00m ndim \u001b[38;5;129;01mis\u001b[39;00m \u001b[38;5;129;01mnot\u001b[39;00m \u001b[38;5;28;01mNone\u001b[39;00m \u001b[38;5;129;01mand\u001b[39;00m ndim \u001b[38;5;241m<\u001b[39m spec\u001b[38;5;241m.\u001b[39mmin_ndim:\n\u001b[0;32m--> 228\u001b[0m     \u001b[38;5;28;01mraise\u001b[39;00m \u001b[38;5;167;01mValueError\u001b[39;00m(\u001b[38;5;124mf\u001b[39m\u001b[38;5;124m'\u001b[39m\u001b[38;5;124mInput \u001b[39m\u001b[38;5;132;01m{\u001b[39;00minput_index\u001b[38;5;132;01m}\u001b[39;00m\u001b[38;5;124m of layer \u001b[39m\u001b[38;5;124m\"\u001b[39m\u001b[38;5;132;01m{\u001b[39;00mlayer_name\u001b[38;5;132;01m}\u001b[39;00m\u001b[38;5;124m\"\u001b[39m\u001b[38;5;124m \u001b[39m\u001b[38;5;124m'\u001b[39m\n\u001b[1;32m    229\u001b[0m                      \u001b[38;5;124m'\u001b[39m\u001b[38;5;124mis incompatible with the layer: \u001b[39m\u001b[38;5;124m'\u001b[39m\n\u001b[1;32m    230\u001b[0m                      \u001b[38;5;124mf\u001b[39m\u001b[38;5;124m'\u001b[39m\u001b[38;5;124mexpected min_ndim=\u001b[39m\u001b[38;5;132;01m{\u001b[39;00mspec\u001b[38;5;241m.\u001b[39mmin_ndim\u001b[38;5;132;01m}\u001b[39;00m\u001b[38;5;124m, \u001b[39m\u001b[38;5;124m'\u001b[39m\n\u001b[1;32m    231\u001b[0m                      \u001b[38;5;124mf\u001b[39m\u001b[38;5;124m'\u001b[39m\u001b[38;5;124mfound ndim=\u001b[39m\u001b[38;5;132;01m{\u001b[39;00mndim\u001b[38;5;132;01m}\u001b[39;00m\u001b[38;5;124m. \u001b[39m\u001b[38;5;124m'\u001b[39m\n\u001b[1;32m    232\u001b[0m                      \u001b[38;5;124mf\u001b[39m\u001b[38;5;124m'\u001b[39m\u001b[38;5;124mFull shape received: \u001b[39m\u001b[38;5;132;01m{\u001b[39;00m\u001b[38;5;28mtuple\u001b[39m(shape)\u001b[38;5;132;01m}\u001b[39;00m\u001b[38;5;124m'\u001b[39m)\n\u001b[1;32m    233\u001b[0m \u001b[38;5;66;03m# Check dtype.\u001b[39;00m\n\u001b[1;32m    234\u001b[0m \u001b[38;5;28;01mif\u001b[39;00m spec\u001b[38;5;241m.\u001b[39mdtype \u001b[38;5;129;01mis\u001b[39;00m \u001b[38;5;129;01mnot\u001b[39;00m \u001b[38;5;28;01mNone\u001b[39;00m:\n",
      "\u001b[0;31mValueError\u001b[0m: Input 0 of layer \"conv2d_20\" is incompatible with the layer: expected min_ndim=4, found ndim=2. Full shape received: (None, 128)"
     ]
    }
   ],
   "source": [
    "model = Sequential()\n",
    "\n",
    "model.add(Conv2D(filters=32, kernel_size=(3, 3), activation='relu', input_shape=(28,28,1)))\n",
    "model.add(MaxPool2D(pool_size=(2, 2), strides=2))\n",
    "\n",
    "model.add(Conv2D(filters=64, kernel_size=(3, 3), activation='relu', padding = 'same'))\n",
    "model.add(MaxPool2D(pool_size=(2, 2), strides=2))\n",
    "\n",
    "model.add(Conv2D(filters=128, kernel_size=(3, 3), activation='relu', padding = 'valid'))\n",
    "model.add(MaxPool2D(pool_size=(2, 2), strides=2))\n",
    "\n",
    "model.add(Flatten())\n",
    "\n",
    "model.add(Dense(64,activation =\"relu\"))\n",
    "model.add(Dense(128,activation =\"relu\"))\n",
    "\n",
    "\n",
    "model.add(Dense(36,activation =\"softmax\"))\n",
    "model.compile(optimizer = Adam(learning_rate=0.0001), loss='categorical_crossentropy', metrics=['accuracy'])"
   ]
  },
  {
   "cell_type": "code",
   "execution_count": 106,
   "id": "b46659f2",
   "metadata": {},
   "outputs": [
    {
     "name": "stdout",
     "output_type": "stream",
     "text": [
      "[0. 0. 0. 0. 0. 0. 0. 0. 0. 0. 0. 0. 0. 0. 0. 0. 0. 0. 0. 0. 0. 0. 0. 0.\n",
      " 0. 0. 0. 1. 0. 0. 0. 0. 0. 0. 0. 0.]\n",
      "R\n"
     ]
    },
    {
     "data": {
      "image/png": "[encoded data removed]",
      "text/plain": [
       "<Figure size 432x288 with 1 Axes>"
      ]
     },
     "metadata": {
      "needs_background": "light"
     },
     "output_type": "display_data"
    }
   ],
   "source": [
    "labelNames = \"0123456789\"\n",
    "labelNames += \"ABCDEFGHIJKLMNOPQRSTUVWXYZ\"\n",
    "#path=\"/home/yasmine/Téléchargements/maj/\"\n",
    "#for filename in os.listdir(path):\n",
    "image=cv2.imread(\"./caracteres/word0/caractere3.png\")\n",
    "#plt.imshow(image)\n",
    "img_copy = image.copy()\n",
    "img = cv2.cvtColor(image, cv2.COLOR_BGR2RGB)\n",
    "\n",
    "img_copy = cv2.GaussianBlur(img_copy, (7,7), 0)\n",
    "img_gray = cv2.cvtColor(img_copy, cv2.COLOR_BGR2GRAY)\n",
    "_, img_thresh = cv2.threshold(img_gray, 200, 255, cv2.THRESH_BINARY_INV)\n",
    "\n",
    "img_final = cv2.resize(img_thresh, (28,28))\n",
    "plt.imshow(img_final)\n",
    "img_final =np.reshape(img_final, (1,28,28,1))\n",
    "print(max(model.predict(img_final)))\n",
    "img_pred = labelNames[np.argmax(model.predict(img_final))]\n",
    "print(img_pred)"
   ]
  },
  {
   "cell_type": "code",
   "execution_count": null,
   "id": "5e31ba4b",
   "metadata": {},
   "outputs": [],
   "source": []
  },
  {
   "cell_type": "code",
   "execution_count": 104,
   "id": "2abc35b6",
   "metadata": {},
   "outputs": [],
   "source": [
    "model.save(\"modelAZa.model\", save_format=\"h5\")"
   ]
  },
  {
   "cell_type": "code",
   "execution_count": 44,
   "id": "cebd9b52",
   "metadata": {},
   "outputs": [
    {
     "name": "stdout",
     "output_type": "stream",
     "text": [
      "2766/2766 [==============================] - 33s 7ms/step - loss: 0.3047 - accuracy: 0.8674\n"
     ]
    }
   ],
   "source": [
    "result = model.evaluate(testX, testY)"
   ]
  },
  {
   "cell_type": "code",
   "execution_count": null,
   "id": "d23d0f3a",
   "metadata": {},
   "outputs": [],
   "source": []
  },
  {
   "cell_type": "code",
   "execution_count": null,
   "id": "94da489f",
   "metadata": {},
   "outputs": [],
   "source": []
  },
  {
   "cell_type": "code",
   "execution_count": 109,
   "id": "68db2ff6",
   "metadata": {},
   "outputs": [
    {
     "name": "stdout",
     "output_type": "stream",
     "text": [
      "Model: \"sequential_7\"\n",
      "_________________________________________________________________\n",
      " Layer (type)                Output Shape              Param #   \n",
      "=================================================================\n",
      " conv2d_22 (Conv2D)          (None, 24, 24, 32)        832       \n",
      "                                                                 \n",
      " batch_normalization_20 (Bat  (None, 24, 24, 32)       128       \n",
      " chNormalization)                                                \n",
      "                                                                 \n",
      " activation_23 (Activation)  (None, 24, 24, 32)        0         \n",
      "                                                                 \n",
      " conv2d_23 (Conv2D)          (None, 21, 21, 32)        16416     \n",
      "                                                                 \n",
      " batch_normalization_21 (Bat  (None, 21, 21, 32)       128       \n",
      " chNormalization)                                                \n",
      "                                                                 \n",
      " activation_24 (Activation)  (None, 21, 21, 32)        0         \n",
      "                                                                 \n",
      " max_pooling2d_12 (MaxPoolin  (None, 10, 10, 32)       0         \n",
      " g2D)                                                            \n",
      "                                                                 \n",
      " conv2d_24 (Conv2D)          (None, 8, 8, 64)          18496     \n",
      "                                                                 \n",
      " batch_normalization_22 (Bat  (None, 8, 8, 64)         256       \n",
      " chNormalization)                                                \n",
      "                                                                 \n",
      " activation_25 (Activation)  (None, 8, 8, 64)          0         \n",
      "                                                                 \n",
      " conv2d_25 (Conv2D)          (None, 6, 6, 64)          36928     \n",
      "                                                                 \n",
      " batch_normalization_23 (Bat  (None, 6, 6, 64)         256       \n",
      " chNormalization)                                                \n",
      "                                                                 \n",
      " activation_26 (Activation)  (None, 6, 6, 64)          0         \n",
      "                                                                 \n",
      " max_pooling2d_13 (MaxPoolin  (None, 3, 3, 64)         0         \n",
      " g2D)                                                            \n",
      "                                                                 \n",
      " flatten_6 (Flatten)         (None, 576)               0         \n",
      "                                                                 \n",
      " dense_11 (Dense)            (None, 512)               295424    \n",
      "                                                                 \n",
      " batch_normalization_24 (Bat  (None, 512)              2048      \n",
      " chNormalization)                                                \n",
      "                                                                 \n",
      " activation_27 (Activation)  (None, 512)               0         \n",
      "                                                                 \n",
      " dropout_5 (Dropout)         (None, 512)               0         \n",
      "                                                                 \n",
      " dense_12 (Dense)            (None, 36)                18468     \n",
      "                                                                 \n",
      " activation_28 (Activation)  (None, 36)                0         \n",
      "                                                                 \n",
      "=================================================================\n",
      "Total params: 389,380\n",
      "Trainable params: 387,972\n",
      "Non-trainable params: 1,408\n",
      "_________________________________________________________________\n",
      "None\n"
     ]
    }
   ],
   "source": [
    "model = Sequential()\n",
    "#model.add(Reshape((28, 28, 1), input_shape=(784,)))\n",
    "model.add(Conv2D(32, (5, 5), input_shape=(28, 28, 1)))\n",
    "model.add(BatchNormalization(axis=-1))\n",
    "model.add(Activation('relu'))\n",
    "model.add(Conv2D(32, (4, 4)))\n",
    "model.add(BatchNormalization(axis=-1))\n",
    "model.add(Activation('relu'))\n",
    "model.add(MaxPooling2D(pool_size=(2, 2)))\n",
    "\n",
    "model.add(Conv2D(64, (3, 3)))\n",
    "model.add(BatchNormalization(axis=-1))\n",
    "model.add(Activation('sigmoid'))\n",
    "model.add(Conv2D(64, (3, 3)))\n",
    "model.add(BatchNormalization(axis=-1))\n",
    "model.add(Activation('relu'))\n",
    "model.add(MaxPooling2D(pool_size=(2, 2)))\n",
    "\n",
    "model.add(Flatten())\n",
    "\n",
    "# Fully connected layer\n",
    "model.add(Dense(512))\n",
    "model.add(BatchNormalization())\n",
    "model.add(Activation('relu'))\n",
    "model.add(Dropout(0.2))\n",
    "\n",
    "model.add(Dense(36))\n",
    "model.add(Activation('softmax'))\n",
    "print(model.summary())"
   ]
  },
  {
   "cell_type": "code",
   "execution_count": 110,
   "id": "d96c478b",
   "metadata": {},
   "outputs": [],
   "source": [
    "model.compile(loss='categorical_crossentropy', optimizer=Adam(0.00001), metrics=['accuracy'])"
   ]
  },
  {
   "cell_type": "code",
   "execution_count": 111,
   "id": "f88130e2",
   "metadata": {},
   "outputs": [],
   "source": [
    "cb_early_stopper = EarlyStopping(monitor='loss', patience=10)\n",
    "reduce_on_plateau = ReduceLROnPlateau(monitor=\"accuracy\", mode=\"max\", factor=0.1, patience=20, verbose=1)\n",
    "callback_values = [cb_early_stopper,reduce_on_plateau]"
   ]
  },
  {
   "cell_type": "code",
   "execution_count": null,
   "id": "2fe53336",
   "metadata": {},
   "outputs": [
    {
     "name": "stdout",
     "output_type": "stream",
     "text": [
      "Epoch 1/200\n",
      "1000/1000 [==============================] - 238s 215ms/step - loss: 16.3485 - accuracy: 0.1113 - lr: 1.0000e-05\n",
      "Epoch 2/200\n",
      "1000/1000 [==============================] - 345s 345ms/step - loss: 11.9444 - accuracy: 0.3152 - lr: 1.0000e-05\n",
      "Epoch 3/200\n",
      "1000/1000 [==============================] - 322s 322ms/step - loss: 9.5821 - accuracy: 0.4481 - lr: 1.0000e-05\n",
      "Epoch 4/200\n",
      "1000/1000 [==============================] - 273s 272ms/step - loss: 8.0644 - accuracy: 0.5272 - lr: 1.0000e-05\n",
      "Epoch 5/200\n",
      "1000/1000 [==============================] - 183s 183ms/step - loss: 7.0135 - accuracy: 0.5831 - lr: 1.0000e-05\n",
      "Epoch 6/200\n",
      "1000/1000 [==============================] - 171s 169ms/step - loss: 6.1250 - accuracy: 0.6296 - lr: 1.0000e-05\n",
      "Epoch 7/200\n",
      "1000/1000 [==============================] - 106s 106ms/step - loss: 5.4732 - accuracy: 0.6631 - lr: 1.0000e-05\n",
      "Epoch 8/200\n",
      "1000/1000 [==============================] - 78s 78ms/step - loss: 4.8938 - accuracy: 0.6933 - lr: 1.0000e-05\n",
      "Epoch 9/200\n",
      "1000/1000 [==============================] - 71s 71ms/step - loss: 4.5175 - accuracy: 0.7157 - lr: 1.0000e-05\n",
      "Epoch 10/200\n",
      "1000/1000 [==============================] - 59s 59ms/step - loss: 4.1366 - accuracy: 0.7370 - lr: 1.0000e-05\n",
      "Epoch 11/200\n",
      "1000/1000 [==============================] - 53s 53ms/step - loss: 3.8965 - accuracy: 0.7492 - lr: 1.0000e-05\n",
      "Epoch 12/200\n",
      "1000/1000 [==============================] - 261s 260ms/step - loss: 3.5990 - accuracy: 0.7628 - lr: 1.0000e-05\n",
      "Epoch 13/200\n",
      "1000/1000 [==============================] - 102s 102ms/step - loss: 3.3638 - accuracy: 0.7731 - lr: 1.0000e-05\n",
      "Epoch 14/200\n",
      "1000/1000 [==============================] - 108s 108ms/step - loss: 3.1735 - accuracy: 0.7859 - lr: 1.0000e-05\n",
      "Epoch 15/200\n",
      "1000/1000 [==============================] - 70s 70ms/step - loss: 3.0807 - accuracy: 0.7894 - lr: 1.0000e-05\n",
      "Epoch 16/200\n",
      "1000/1000 [==============================] - 57s 57ms/step - loss: 2.9231 - accuracy: 0.7992 - lr: 1.0000e-05\n",
      "Epoch 17/200\n",
      "1000/1000 [==============================] - 61s 61ms/step - loss: 2.8005 - accuracy: 0.8075 - lr: 1.0000e-05\n",
      "Epoch 18/200\n",
      "1000/1000 [==============================] - 60s 60ms/step - loss: 2.7132 - accuracy: 0.8109 - lr: 1.0000e-05\n",
      "Epoch 19/200\n",
      "1000/1000 [==============================] - 61s 60ms/step - loss: 2.5625 - accuracy: 0.8181 - lr: 1.0000e-05\n",
      "Epoch 20/200\n",
      "1000/1000 [==============================] - 53s 52ms/step - loss: 2.5488 - accuracy: 0.8183 - lr: 1.0000e-05\n",
      "Epoch 21/200\n",
      "1000/1000 [==============================] - 52s 52ms/step - loss: 2.4530 - accuracy: 0.8272 - lr: 1.0000e-05\n",
      "Epoch 22/200\n",
      "1000/1000 [==============================] - 55s 55ms/step - loss: 2.3326 - accuracy: 0.8323 - lr: 1.0000e-05\n",
      "Epoch 23/200\n",
      "1000/1000 [==============================] - 224s 224ms/step - loss: 2.2178 - accuracy: 0.8380 - lr: 1.0000e-05\n",
      "Epoch 24/200\n",
      "1000/1000 [==============================] - 62s 61ms/step - loss: 2.2590 - accuracy: 0.8369 - lr: 1.0000e-05\n",
      "Epoch 25/200\n",
      " 281/1000 [=======>......................] - ETA: 1:01 - loss: 2.1350 - accuracy: 0.8511"
     ]
    }
   ],
   "source": [
    "history = model.fit(aug.flow(trainX, trainY,32), epochs=200, steps_per_epoch=1000, class_weight=classWeight, callbacks=callback_values)"
   ]
  },
  {
   "cell_type": "code",
   "execution_count": 61,
   "id": "ad9f1134",
   "metadata": {},
   "outputs": [],
   "source": [
    "model.save(\"Newmodel.model\", save_format=\"h5\")"
   ]
  },
  {
   "cell_type": "code",
   "execution_count": 62,
   "id": "6e0ff44e",
   "metadata": {},
   "outputs": [
    {
     "name": "stdout",
     "output_type": "stream",
     "text": [
      "2766/2766 [==============================] - 33s 11ms/step - loss: 0.1934 - accuracy: 0.9147\n"
     ]
    }
   ],
   "source": [
    "result = model.evaluate(testX, testY)"
   ]
  },
  {
   "cell_type": "code",
   "execution_count": null,
   "id": "aabbd60e",
   "metadata": {},
   "outputs": [],
   "source": []
  },
  {
   "cell_type": "code",
   "execution_count": null,
   "id": "1d8e8df2",
   "metadata": {},
   "outputs": [],
   "source": []
  },
  {
   "cell_type": "code",
   "execution_count": null,
   "id": "b05eab41",
   "metadata": {},
   "outputs": [],
   "source": []
  },
  {
   "cell_type": "code",
   "execution_count": null,
   "id": "eda4c887",
   "metadata": {},
   "outputs": [],
   "source": []
  },
  {
   "cell_type": "code",
   "execution_count": 86,
   "id": "ec54ad7d",
   "metadata": {},
   "outputs": [],
   "source": [
    "labelNames = \"0123456789\"\n",
    "labelNames += \"ABCDEFGHIJKLMNOPQRSTUVWXYZ\"\n",
    "labelNames=[i for i in labelNames ]"
   ]
  },
  {
   "cell_type": "code",
   "execution_count": 107,
   "id": "04e70908",
   "metadata": {},
   "outputs": [
    {
     "name": "stdout",
     "output_type": "stream",
     "text": [
      "z3.jpeg 2\n",
      "K.jpeg K\n",
      "8.png 8\n",
      "a1.jpeg A\n",
      "hh.jpeg K\n",
      "r3.jpeg R\n",
      "1.png J\n",
      "444.jpeg 4\n",
      "d.jpeg D\n",
      "3.png 2\n",
      "m1.jpeg M\n",
      "55.png 5\n",
      "7.png 7\n",
      "LL.png 2\n",
      "I.jpeg 1\n",
      "d1.png 5\n",
      "999.jpeg 9\n",
      "n1.jpeg 1\n",
      "W.png W\n",
      "e3.png E\n",
      "b1.jpeg 6\n",
      "99.png 9\n",
      "H.png H\n",
      "333.png 3\n",
      "22.png 2\n",
      "1.jpg 8\n",
      "Y.png V\n",
      "L1.png 0\n",
      "44.jpeg 4\n",
      "a.jpg A\n",
      "66.png 8\n",
      "u2.jpeg 4\n",
      "a3.png A\n",
      "k1.png K\n",
      "G.jpeg G\n",
      "f3.png 7\n",
      "r1.png 2\n",
      "z1.png Z\n",
      "p1.png Y\n",
      "J.png 2\n",
      "M.jpeg M\n",
      "L.png L\n",
      "d.jpg 5\n",
      "kk.jpeg K\n",
      "B.png 5\n",
      "B1.jpeg 0\n",
      "h3.jpeg H\n",
      "9.png 9\n",
      "tt.jpeg 1\n",
      "777.png 8\n",
      "pp.png P\n",
      "xx.png 4\n",
      "m.png M\n",
      "w1.png 4\n",
      "c1.png 8\n",
      "6.png 8\n",
      "q1.png 9\n",
      "nn.png 7\n",
      "t2.png T\n",
      "R.jpeg 5\n",
      "p3.png 5\n",
      "b.jpeg 0\n",
      "a2.jpeg 2\n",
      "O.jpeg 0\n",
      "4.png 4\n",
      "g.png 9\n",
      "V.jpeg V\n",
      "2.png 2\n",
      "u1.png D\n",
      "b1.png 6\n",
      "T.png J\n",
      "o.png 0\n",
      "S.png S\n",
      "77.png 2\n",
      "Z.jpeg Z\n",
      "f2.png 1\n",
      "j2.png J\n",
      "s1.png P\n",
      "88.png 8\n",
      "N.jpeg N\n",
      "h2.jpeg 5\n",
      "P.jpeg P\n",
      "i2.png 1\n",
      "e1.png 0\n",
      "U.jpeg U\n",
      "q.png Q\n",
      "a.png A\n",
      "g1.png 8\n",
      "e2.jpeg 2\n",
      "q2.png 9\n",
      "c2.png C\n",
      "dd.png 3\n",
      "t1.png 1\n",
      "888.png B\n",
      "y2.png 5\n",
      "7777.png 2\n",
      "y.png 8\n",
      "f1.png 1\n",
      "X.jpeg X\n",
      "w3.png M\n",
      "C.jpeg G\n",
      "E.png E\n",
      "h1.png 7\n",
      "yy.jpeg 4\n",
      "v3.jpeg 8\n",
      "b2.jpeg B\n",
      "x1.png 5\n",
      "v1.png 5\n",
      "j1.png 1\n",
      "i1.png 1\n",
      "v2.png 4\n",
      "F.jpeg F\n",
      "5.png 5\n",
      "11.png 1\n",
      "666.png 0\n",
      "33.jpeg 3\n"
     ]
    },
    {
     "data": {
      "image/png": "[encoded data removed]",
      "text/plain": [
       "<Figure size 432x288 with 1 Axes>"
      ]
     },
     "metadata": {
      "needs_background": "light"
     },
     "output_type": "display_data"
    }
   ],
   "source": [
    "\n",
    "path=\"/home/yasmine/Téléchargements/maj/\"\n",
    "for filename in os.listdir(path):\n",
    "    image=cv2.imread(path+filename)\n",
    "    img_copy = image.copy()\n",
    "    img = cv2.cvtColor(image, cv2.COLOR_BGR2RGB)\n",
    "\n",
    "    #img_copy = cv2.GaussianBlur(img_copy, (3,3), 0)\n",
    "    img_gray = cv2.cvtColor(img_copy, cv2.COLOR_BGR2GRAY)\n",
    "    #plt.imshow(img_gray)\n",
    "    img_copy = cv2.resize(img_gray, (28,28))\n",
    "    _, img_thresh = cv2.threshold(img_copy, 190, 255, cv2.THRESH_BINARY_INV)\n",
    "    plt.imshow(img_thresh )\n",
    "    #img_final = cv2.resize(img_thresh, (28,28))\n",
    "\n",
    "    img_final =img_thresh .reshape(1,28,28,1)\n",
    "    #plt.imshow(img_final)\n",
    "    data = np.array(img_final, dtype=\"float32\")\n",
    "    data /= 255.0\n",
    "    img_pred = labelNames[np.argmax(model.predict(data))]\n",
    "    \n",
    "    print(filename,img_pred)"
   ]
  },
  {
   "cell_type": "code",
   "execution_count": 97,
   "id": "10dbf57f",
   "metadata": {},
   "outputs": [
    {
     "name": "stdout",
     "output_type": "stream",
     "text": [
      "D\n"
     ]
    },
    {
     "data": {
      "image/png": "[encoded data removed]",
      "text/plain": [
       "<Figure size 432x288 with 1 Axes>"
      ]
     },
     "metadata": {
      "needs_background": "light"
     },
     "output_type": "display_data"
    }
   ],
   "source": [
    "image=cv2.imread(\"./caracteres/word0/caractere1.png\")\n",
    "img_copy = image.copy()\n",
    "img = cv2.cvtColor(image, cv2.COLOR_BGR2RGB)\n",
    "\n",
    "img_copy = cv2.GaussianBlur(img_copy, (5,5), 0)\n",
    "img_gray = cv2.cvtColor(img_copy, cv2.COLOR_BGR2GRAY)\n",
    "#plt.imshow(img_gray)\n",
    "img_copy = cv2.resize(img_gray, (28,28))\n",
    "_, img_thresh = cv2.threshold(img_copy, 200, 255, cv2.THRESH_BINARY_INV)\n",
    "plt.imshow(img_thresh )\n",
    "#img_final = cv2.resize(img_thresh, (28,28))\n",
    "\n",
    "img_final =img_thresh .reshape(1,28,28,1)\n",
    "#plt.imshow(img_final)\n",
    "data = np.array(img_final, dtype=\"float32\")\n",
    "data /= 255.0\n",
    "img_pred = labelNames[np.argmax(model.predict(data))]\n",
    "print(img_pred)"
   ]
  },
  {
   "cell_type": "code",
   "execution_count": 35,
   "id": "0cf5bce2",
   "metadata": {},
   "outputs": [
    {
     "name": "stdout",
     "output_type": "stream",
     "text": [
      "C\n"
     ]
    }
   ],
   "source": [
    "img_pred = labelNames[np.argmax(model.predict(img_final))]\n",
    "print(img_pred)"
   ]
  },
  {
   "cell_type": "code",
   "execution_count": 28,
   "id": "bf158e25",
   "metadata": {},
   "outputs": [
    {
     "name": "stdout",
     "output_type": "stream",
     "text": [
      "[[0.04128188 0.04353632 0.02983284 0.03228798 0.04521467 0.04777106\n",
      "  0.04043522 0.03976554 0.02018813 0.05026819 0.03352798 0.05249602\n",
      "  0.0121046  0.02570948 0.01458274 0.11177649 0.03431619 0.02794745\n",
      "  0.04586308 0.05581767 0.00752654 0.01802094 0.01198805 0.02978308\n",
      "  0.0918838  0.03607408]]\n"
     ]
    }
   ],
   "source": [
    "print(model.predict(img_final))"
   ]
  },
  {
   "cell_type": "code",
   "execution_count": 18,
   "id": "c82fee26",
   "metadata": {},
   "outputs": [
    {
     "name": "stdout",
     "output_type": "stream",
     "text": [
      "(28, 28)\n"
     ]
    }
   ],
   "source": [
    "labelNames = \"0123456789\"\n",
    "labelNames += \"ABCDEFGHIJKLMNOPQRSTUVWXYZ\"\n",
    "#an_image = PIL.Image.open(path+filename)\n",
    "#grayImage= cv2.cvtColor(image, cv2.COLOR_BGR2GRAY)\n",
    "image=cv2.imread(\"/home/yasmine/Téléchargements/maj/K.jpeg\")\n",
    "#an_image = PIL.Image.open(path+filename)\n",
    "grayImage= cv2.cvtColor(image, cv2.COLOR_BGR2GRAY)\n",
    "image=cv2.resize(grayImage, (28,28))\n",
    "\n",
    "d = np.array(image, dtype=\"float32\")\n",
    "#data = np.expand_dims(data, axis=-1)\n",
    "d /= 255.0\n",
    "print(d.shape)"
   ]
  },
  {
   "cell_type": "code",
   "execution_count": null,
   "id": "2ed066d8",
   "metadata": {},
   "outputs": [],
   "source": [
    "proba=model.predict(d.reshape(1,28,28,1))\n",
    "print(labelNames[np.argmax(proba)])"
   ]
  },
  {
   "cell_type": "code",
   "execution_count": 19,
   "id": "8bf1eaa6",
   "metadata": {},
   "outputs": [
    {
     "name": "stdout",
     "output_type": "stream",
     "text": [
      "B\n"
     ]
    }
   ],
   "source": [
    "proba=model.predict(d.reshape(1,28,28,1))\n",
    "print(labelNames[np.argmax(proba)])"
   ]
  },
  {
   "cell_type": "code",
   "execution_count": 5,
   "id": "dc97f5a7",
   "metadata": {},
   "outputs": [],
   "source": [
    "azLabels += 10\n",
    "\n",
    "# stack the A-Z data and labels with the MNIST digits data and labels\n",
    "data = np.vstack([azData, digitsData])\n",
    "labels = np.hstack([azLabels, digitsLabels])\n",
    "\n",
    "# each image in the A-Z and MNIST digts datasets are 28x28 pixels;\n",
    "# however, the architecture we're using is designed for 32x32 images,\n",
    "# so we need to resize them to 32x32\n",
    "data = [cv2.resize(image, (32, 32)) for image in data]\n",
    "data = np.array(data, dtype=\"float32\")\n",
    "\n",
    "# add a channel dimension to every image in the dataset and scale the\n",
    "# pixel intensities of the images from [0, 255] down to [0, 1]\n",
    "data = np.expand_dims(data, axis=-1)\n",
    "data /= 255.0\n",
    "\n",
    "# convert the labels from integers to vectors\n",
    "le = LabelBinarizer()\n",
    "labels = le.fit_transform(labels)\n",
    "counts = labels.sum(axis=0)\n",
    "\n",
    "# account for skew in the labeled data\n",
    "classTotals = labels.sum(axis=0)\n",
    "classWeight = {}\n",
    "\n",
    "\n",
    "# loop over all classes and calculate the class weight\n",
    "for i in range(0, len(classTotals)):\n",
    "    classWeight[i] = classTotals.max() / classTotals[i]\n",
    "\n"
   ]
  },
  {
   "cell_type": "code",
   "execution_count": 6,
   "id": "6ed8cc71",
   "metadata": {},
   "outputs": [
    {
     "name": "stdout",
     "output_type": "stream",
     "text": [
      "(442451, 32, 32, 1)\n",
      "(442451, 36)\n"
     ]
    }
   ],
   "source": [
    "print(data.shape)\n",
    "print(labels.shape)"
   ]
  },
  {
   "cell_type": "code",
   "execution_count": 7,
   "id": "e624919f",
   "metadata": {},
   "outputs": [],
   "source": [
    "# partition the data into training and testing splits using 80% of\n",
    "# the data for training and the remaining 20% for testing\n",
    "(trainX, testX, trainY, testY) = train_test_split(data,\n",
    "    labels, test_size=0.20, stratify=labels, random_state=42)"
   ]
  },
  {
   "cell_type": "code",
   "execution_count": 8,
   "id": "818db489",
   "metadata": {},
   "outputs": [
    {
     "name": "stdout",
     "output_type": "stream",
     "text": [
      "(353960, 32, 32, 1)\n",
      "(353960, 36)\n",
      "(88491, 32, 32, 1)\n",
      "(88491, 36)\n"
     ]
    }
   ],
   "source": [
    "print(trainX.shape)\n",
    "print(trainY.shape)\n",
    "print(testX.shape)\n",
    "print(testY.shape)"
   ]
  },
  {
   "cell_type": "code",
   "execution_count": 9,
   "id": "d0451259",
   "metadata": {},
   "outputs": [],
   "source": [
    "aug = ImageDataGenerator(\n",
    "    rotation_range=10,\n",
    "    zoom_range=0.2,\n",
    "    width_shift_range=0.1,\n",
    "    height_shift_range=0.1,\n",
    "    shear_range=0.1)"
   ]
  },
  {
   "cell_type": "code",
   "execution_count": 9,
   "id": "bbb41317",
   "metadata": {},
   "outputs": [
    {
     "name": "stderr",
     "output_type": "stream",
     "text": [
      "2022-05-07 14:18:24.907869: E tensorflow/stream_executor/cuda/cuda_driver.cc:271] failed call to cuInit: CUDA_ERROR_NO_DEVICE: no CUDA-capable device is detected\n",
      "2022-05-07 14:18:24.966878: I tensorflow/stream_executor/cuda/cuda_diagnostics.cc:156] kernel driver does not appear to be running on this host (yasmine-Lenovo-ideapad-130-15IKB): /proc/driver/nvidia/version does not exist\n",
      "2022-05-07 14:18:25.770083: I tensorflow/core/platform/cpu_feature_guard.cc:151] This TensorFlow binary is optimized with oneAPI Deep Neural Network Library (oneDNN) to use the following CPU instructions in performance-critical operations:  AVX2 FMA\n",
      "To enable them in other operations, rebuild TensorFlow with the appropriate compiler flags.\n",
      "/home/yasmine/jupyter/environment/lib/python3.8/site-packages/keras/optimizer_v2/adam.py:105: UserWarning: The `lr` argument is deprecated, use `learning_rate` instead.\n",
      "  super(Adam, self).__init__(name, **kwargs)\n"
     ]
    }
   ],
   "source": [
    "model=Sequential()\n",
    "model.add((Conv2D(60,(5,5),input_shape=(32,32,1),activation=\"relu\")))\n",
    "model.add((Conv2D(60,(5,5),activation=\"relu\")))\n",
    "model.add(MaxPooling2D(pool_size=(2,2)))\n",
    "model.add((Conv2D(60//2,(3,3),activation=\"relu\")))\n",
    "model.add((Conv2D(60//2,(3,3),activation=\"relu\")))\n",
    "model.add(MaxPooling2D(pool_size=(2,2)))\n",
    "model.add(Dropout(0.5))\n",
    "model.add(Flatten())\n",
    "model.add(Dense(500,activation=\"relu\"))\n",
    "model.add(Dropout(0.5))\n",
    "model.add(Dense(36,activation=\"softmax\"))\n",
    "model.compile(Adam(lr=0.001),loss='categorical_crossentropy',  metrics=['accuracy'])"
   ]
  },
  {
   "cell_type": "code",
   "execution_count": 10,
   "id": "971055d3",
   "metadata": {},
   "outputs": [
    {
     "name": "stdout",
     "output_type": "stream",
     "text": [
      "Epoch 1/10\n"
     ]
    },
    {
     "name": "stderr",
     "output_type": "stream",
     "text": [
      "2022-05-07 14:20:03.001967: W tensorflow/core/framework/cpu_allocator_impl.cc:82] Allocation of 19975680 exceeds 10% of free system memory.\n",
      "2022-05-07 14:20:03.007391: W tensorflow/core/framework/cpu_allocator_impl.cc:82] Allocation of 23328000 exceeds 10% of free system memory.\n",
      "2022-05-07 14:20:03.012730: W tensorflow/core/framework/cpu_allocator_impl.cc:82] Allocation of 19975680 exceeds 10% of free system memory.\n",
      "2022-05-07 14:20:03.013258: W tensorflow/core/framework/cpu_allocator_impl.cc:82] Allocation of 23328000 exceeds 10% of free system memory.\n",
      "2022-05-07 14:20:03.034385: W tensorflow/core/framework/cpu_allocator_impl.cc:82] Allocation of 27648000 exceeds 10% of free system memory.\n"
     ]
    },
    {
     "name": "stdout",
     "output_type": "stream",
     "text": [
      "2000/2000 [==============================] - 976s 473ms/step - loss: 0.9093 - accuracy: 0.7380 - val_loss: 0.2183 - val_accuracy: 0.9318\n",
      "Epoch 2/10\n",
      "2000/2000 [==============================] - 800s 400ms/step - loss: 0.4412 - accuracy: 0.8693 - val_loss: 0.1666 - val_accuracy: 0.9468\n",
      "Epoch 3/10\n",
      "2000/2000 [==============================] - 552s 276ms/step - loss: 0.3659 - accuracy: 0.8917 - val_loss: 0.1659 - val_accuracy: 0.9487\n",
      "Epoch 4/10\n",
      "2000/2000 [==============================] - 557s 278ms/step - loss: 0.3288 - accuracy: 0.9021 - val_loss: 0.1483 - val_accuracy: 0.9543\n",
      "Epoch 5/10\n",
      "2000/2000 [==============================] - 535s 268ms/step - loss: 0.3068 - accuracy: 0.9090 - val_loss: 0.1455 - val_accuracy: 0.9553\n",
      "Epoch 6/10\n",
      "2000/2000 [==============================] - 547s 273ms/step - loss: 0.2976 - accuracy: 0.9123 - val_loss: 0.1367 - val_accuracy: 0.9587\n",
      "Epoch 7/10\n",
      "2000/2000 [==============================] - 512s 256ms/step - loss: 0.2835 - accuracy: 0.9153 - val_loss: 0.1318 - val_accuracy: 0.9591\n",
      "Epoch 8/10\n",
      "2000/2000 [==============================] - 485s 242ms/step - loss: 0.2738 - accuracy: 0.9186 - val_loss: 0.1324 - val_accuracy: 0.9588\n",
      "Epoch 9/10\n",
      "2000/2000 [==============================] - 498s 249ms/step - loss: 0.2647 - accuracy: 0.9231 - val_loss: 0.1334 - val_accuracy: 0.9582\n",
      "Epoch 10/10\n",
      "2000/2000 [==============================] - 493s 246ms/step - loss: 0.2632 - accuracy: 0.9218 - val_loss: 0.1270 - val_accuracy: 0.9604\n"
     ]
    }
   ],
   "source": [
    "history = model.fit(aug.flow(trainX, trainY,50),  epochs=8, steps_per_epoch=1000, shuffle=1)"
   ]
  },
  {
   "cell_type": "code",
   "execution_count": 11,
   "id": "054c3447",
   "metadata": {},
   "outputs": [],
   "source": [
    "model.save(\"model1.model\", save_format=\"h5\")"
   ]
  },
  {
   "cell_type": "code",
   "execution_count": 11,
   "id": "4155723e",
   "metadata": {},
   "outputs": [],
   "source": [
    "model1 = load_model('model1.model')\n"
   ]
  },
  {
   "cell_type": "code",
   "execution_count": 21,
   "id": "b06b2ced",
   "metadata": {},
   "outputs": [
    {
     "ename": "ValueError",
     "evalue": "Classification metrics can't handle a mix of multilabel-indicator and continuous-multioutput targets",
     "output_type": "error",
     "traceback": [
      "\u001b[0;31m---------------------------------------------------------------------------\u001b[0m",
      "\u001b[0;31mValueError\u001b[0m                                Traceback (most recent call last)",
      "Input \u001b[0;32mIn [21]\u001b[0m, in \u001b[0;36m<cell line: 4>\u001b[0;34m()\u001b[0m\n\u001b[1;32m      1\u001b[0m predicted_labels \u001b[38;5;241m=\u001b[39m model\u001b[38;5;241m.\u001b[39mpredict(testX)\n\u001b[1;32m      2\u001b[0m \u001b[38;5;66;03m#testY = testY.argmax(axis=1)\u001b[39;00m\n\u001b[0;32m----> 4\u001b[0m \u001b[38;5;28mprint\u001b[39m(\u001b[38;5;124m\"\u001b[39m\u001b[38;5;124maccuracy_test\u001b[39m\u001b[38;5;124m\"\u001b[39m,\u001b[43maccuracy_score\u001b[49m\u001b[43m(\u001b[49m\u001b[43mtestY\u001b[49m\u001b[43m,\u001b[49m\u001b[43m \u001b[49m\u001b[43mpredicted_labels\u001b[49m\u001b[43m)\u001b[49m)\n\u001b[1;32m      5\u001b[0m cm\u001b[38;5;241m=\u001b[39mconfusion_matrix(testY, predicted_labels)\n\u001b[1;32m      6\u001b[0m \u001b[38;5;28mprint\u001b[39m(classification_report(testY, predicted_labels))\n",
      "File \u001b[0;32m~/jupyter/environment/lib/python3.8/site-packages/sklearn/metrics/_classification.py:211\u001b[0m, in \u001b[0;36maccuracy_score\u001b[0;34m(y_true, y_pred, normalize, sample_weight)\u001b[0m\n\u001b[1;32m    145\u001b[0m \u001b[38;5;124;03m\"\"\"Accuracy classification score.\u001b[39;00m\n\u001b[1;32m    146\u001b[0m \n\u001b[1;32m    147\u001b[0m \u001b[38;5;124;03mIn multilabel classification, this function computes subset accuracy:\u001b[39;00m\n\u001b[0;32m   (...)\u001b[0m\n\u001b[1;32m    207\u001b[0m \u001b[38;5;124;03m0.5\u001b[39;00m\n\u001b[1;32m    208\u001b[0m \u001b[38;5;124;03m\"\"\"\u001b[39;00m\n\u001b[1;32m    210\u001b[0m \u001b[38;5;66;03m# Compute accuracy for each possible representation\u001b[39;00m\n\u001b[0;32m--> 211\u001b[0m y_type, y_true, y_pred \u001b[38;5;241m=\u001b[39m \u001b[43m_check_targets\u001b[49m\u001b[43m(\u001b[49m\u001b[43my_true\u001b[49m\u001b[43m,\u001b[49m\u001b[43m \u001b[49m\u001b[43my_pred\u001b[49m\u001b[43m)\u001b[49m\n\u001b[1;32m    212\u001b[0m check_consistent_length(y_true, y_pred, sample_weight)\n\u001b[1;32m    213\u001b[0m \u001b[38;5;28;01mif\u001b[39;00m y_type\u001b[38;5;241m.\u001b[39mstartswith(\u001b[38;5;124m\"\u001b[39m\u001b[38;5;124mmultilabel\u001b[39m\u001b[38;5;124m\"\u001b[39m):\n",
      "File \u001b[0;32m~/jupyter/environment/lib/python3.8/site-packages/sklearn/metrics/_classification.py:93\u001b[0m, in \u001b[0;36m_check_targets\u001b[0;34m(y_true, y_pred)\u001b[0m\n\u001b[1;32m     90\u001b[0m     y_type \u001b[38;5;241m=\u001b[39m {\u001b[38;5;124m\"\u001b[39m\u001b[38;5;124mmulticlass\u001b[39m\u001b[38;5;124m\"\u001b[39m}\n\u001b[1;32m     92\u001b[0m \u001b[38;5;28;01mif\u001b[39;00m \u001b[38;5;28mlen\u001b[39m(y_type) \u001b[38;5;241m>\u001b[39m \u001b[38;5;241m1\u001b[39m:\n\u001b[0;32m---> 93\u001b[0m     \u001b[38;5;28;01mraise\u001b[39;00m \u001b[38;5;167;01mValueError\u001b[39;00m(\n\u001b[1;32m     94\u001b[0m         \u001b[38;5;124m\"\u001b[39m\u001b[38;5;124mClassification metrics can\u001b[39m\u001b[38;5;124m'\u001b[39m\u001b[38;5;124mt handle a mix of \u001b[39m\u001b[38;5;132;01m{0}\u001b[39;00m\u001b[38;5;124m and \u001b[39m\u001b[38;5;132;01m{1}\u001b[39;00m\u001b[38;5;124m targets\u001b[39m\u001b[38;5;124m\"\u001b[39m\u001b[38;5;241m.\u001b[39mformat(\n\u001b[1;32m     95\u001b[0m             type_true, type_pred\n\u001b[1;32m     96\u001b[0m         )\n\u001b[1;32m     97\u001b[0m     )\n\u001b[1;32m     99\u001b[0m \u001b[38;5;66;03m# We can't have more than one value on y_type => The set is no more needed\u001b[39;00m\n\u001b[1;32m    100\u001b[0m y_type \u001b[38;5;241m=\u001b[39m y_type\u001b[38;5;241m.\u001b[39mpop()\n",
      "\u001b[0;31mValueError\u001b[0m: Classification metrics can't handle a mix of multilabel-indicator and continuous-multioutput targets"
     ]
    }
   ],
   "source": [
    "predicted_labels = model.predict(testX)\n",
    "#testY = testY.argmax(axis=1)\n",
    "\n",
    "print(\"accuracy_test\",accuracy_score(testY, predicted_labels))\n",
    "cm=confusion_matrix(testY, predicted_labels)\n",
    "print(classification_report(testY, predicted_labels))\n",
    "\n",
    "plt.figure(figsize=(16,16))\n",
    "ax= plt.subplot()\n",
    "sns.heatmap(cm, fmt='g',annot=True, ax = ax,cmap=plt.cm.Blues) #annot=True to annotate cells\n",
    "\n",
    "# labels, title and ticks\n",
    "ax.set_xlabel('Predicted labels')\n",
    "ax.set_ylabel('True labels')\n",
    "ax.set_title('Confusion Matrix')\n",
    "\n",
    "plt.show()\n"
   ]
  },
  {
   "cell_type": "code",
   "execution_count": 10,
   "id": "bf459ade",
   "metadata": {},
   "outputs": [
    {
     "name": "stderr",
     "output_type": "stream",
     "text": [
      "2022-05-08 13:43:42.370417: E tensorflow/stream_executor/cuda/cuda_driver.cc:271] failed call to cuInit: CUDA_ERROR_NO_DEVICE: no CUDA-capable device is detected\n",
      "2022-05-08 13:43:42.474688: I tensorflow/stream_executor/cuda/cuda_diagnostics.cc:156] kernel driver does not appear to be running on this host (yasmine-Lenovo-ideapad-130-15IKB): /proc/driver/nvidia/version does not exist\n",
      "2022-05-08 13:43:44.574998: I tensorflow/core/platform/cpu_feature_guard.cc:151] This TensorFlow binary is optimized with oneAPI Deep Neural Network Library (oneDNN) to use the following CPU instructions in performance-critical operations:  AVX2 FMA\n",
      "To enable them in other operations, rebuild TensorFlow with the appropriate compiler flags.\n",
      "/home/yasmine/jupyter/environment/lib/python3.8/site-packages/keras/optimizer_v2/adam.py:105: UserWarning: The `lr` argument is deprecated, use `learning_rate` instead.\n",
      "  super(Adam, self).__init__(name, **kwargs)\n"
     ]
    }
   ],
   "source": [
    "model=Sequential()\n",
    "model.add((Conv2D(60,(5,5),input_shape=(32,32,1),activation=\"relu\")))\n",
    "model.add((Conv2D(60,(5,5),activation=\"relu\")))\n",
    "model.add(MaxPooling2D(pool_size=(2,2)))\n",
    "model.add((Conv2D(60//2,(3,3),activation=\"relu\")))\n",
    "model.add((Conv2D(60//2,(3,3),activation=\"relu\")))\n",
    "model.add(MaxPooling2D(pool_size=(2,2)))\n",
    "model.add(Dropout(0.5))\n",
    "model.add(Flatten())\n",
    "model.add(Dense(500,activation=\"relu\"))\n",
    "model.add(Dropout(0.5))\n",
    "model.add(Dense(36,activation=\"softmax\"))\n",
    "model.compile(Adam(lr=0.001),loss='categorical_crossentropy',  metrics=['accuracy'])"
   ]
  },
  {
   "cell_type": "code",
   "execution_count": null,
   "id": "98c0d478",
   "metadata": {},
   "outputs": [
    {
     "name": "stdout",
     "output_type": "stream",
     "text": [
      "Epoch 1/20\n"
     ]
    },
    {
     "name": "stderr",
     "output_type": "stream",
     "text": [
      "2022-05-08 13:46:26.594470: W tensorflow/core/framework/cpu_allocator_impl.cc:82] Allocation of 19975680 exceeds 10% of free system memory.\n",
      "2022-05-08 13:46:26.594651: W tensorflow/core/framework/cpu_allocator_impl.cc:82] Allocation of 19975680 exceeds 10% of free system memory.\n",
      "2022-05-08 13:46:26.600529: W tensorflow/core/framework/cpu_allocator_impl.cc:82] Allocation of 23328000 exceeds 10% of free system memory.\n",
      "2022-05-08 13:46:26.600706: W tensorflow/core/framework/cpu_allocator_impl.cc:82] Allocation of 23328000 exceeds 10% of free system memory.\n",
      "2022-05-08 13:46:26.628662: W tensorflow/core/framework/cpu_allocator_impl.cc:82] Allocation of 27648000 exceeds 10% of free system memory.\n"
     ]
    },
    {
     "name": "stdout",
     "output_type": "stream",
     "text": [
      "3000/3000 [==============================] - ETA: 0s - loss: 4.7383 - accuracy: 0.6598"
     ]
    }
   ],
   "source": [
    "history = model.fit(aug.flow(trainX, trainY,50), validation_data=(testX, testY), epochs=20, steps_per_epoch=3000, class_weight=classWeight, shuffle=1)"
   ]
  },
  {
   "cell_type": "code",
   "execution_count": 11,
   "id": "7f73164e",
   "metadata": {},
   "outputs": [],
   "source": [
    "model.save(\"model2.model\", save_format=\"h5\")"
   ]
  },
  {
   "cell_type": "code",
   "execution_count": 19,
   "id": "ad2da261",
   "metadata": {},
   "outputs": [],
   "source": [
    "model2 = load_model('model2.model')"
   ]
  },
  {
   "cell_type": "code",
   "execution_count": 20,
   "id": "9264d568",
   "metadata": {},
   "outputs": [
    {
     "name": "stdout",
     "output_type": "stream",
     "text": [
      "accuracy_test 0.8594546338045677\n",
      "              precision    recall  f1-score   support\n",
      "\n",
      "           0       0.12      0.96      0.22      1381\n",
      "           1       0.98      0.96      0.97      1575\n",
      "           2       0.86      0.97      0.91      1398\n",
      "           3       0.97      0.99      0.98      1428\n",
      "           4       0.83      0.97      0.89      1365\n",
      "           5       0.61      0.87      0.71      1263\n",
      "           6       0.96      0.96      0.96      1375\n",
      "           7       0.96      0.98      0.97      1459\n",
      "           8       0.96      0.96      0.96      1365\n",
      "           9       0.98      0.97      0.97      1392\n",
      "          10       0.98      0.99      0.99      2774\n",
      "          11       0.98      0.98      0.98      1734\n",
      "          12       0.99      0.98      0.98      4682\n",
      "          13       0.92      0.95      0.93      2027\n",
      "          14       0.99      0.98      0.99      2288\n",
      "          15       0.95      0.99      0.97       232\n",
      "          16       0.94      0.95      0.95      1152\n",
      "          17       0.94      0.97      0.95      1444\n",
      "          18       0.87      0.99      0.93       224\n",
      "          19       0.97      0.96      0.96      1699\n",
      "          20       0.97      0.97      0.97      1121\n",
      "          21       0.97      0.97      0.97      2317\n",
      "          22       0.99      0.98      0.98      2467\n",
      "          23       0.99      0.98      0.99      3802\n",
      "          24       0.98      0.17      0.30     11565\n",
      "          25       1.00      0.98      0.99      3868\n",
      "          26       0.93      0.98      0.95      1162\n",
      "          27       0.99      0.98      0.98      2313\n",
      "          28       0.98      0.92      0.95      9684\n",
      "          29       1.00      0.98      0.99      4499\n",
      "          30       0.99      0.97      0.98      5802\n",
      "          31       0.92      0.99      0.96       836\n",
      "          32       0.99      0.98      0.98      2157\n",
      "          33       0.96      0.99      0.98      1254\n",
      "          34       0.98      0.89      0.93      2172\n",
      "          35       0.95      0.87      0.91      1215\n",
      "\n",
      "    accuracy                           0.86     88491\n",
      "   macro avg       0.93      0.94      0.92     88491\n",
      "weighted avg       0.95      0.86      0.86     88491\n",
      "\n"
     ]
    },
    {
     "data": {
      "image/png": "[encoded data removed]",
      "text/plain": [
       "<Figure size 1152x1152 with 2 Axes>"
      ]
     },
     "metadata": {
      "needs_background": "light"
     },
     "output_type": "display_data"
    }
   ],
   "source": [
    "predicted_labels = model2.predict(testX).argmax(axis=1)\n",
    "#testY = testY.argmax(axis=1)\n",
    "\n",
    "print(\"accuracy_test\",accuracy_score(testY, predicted_labels))\n",
    "cm=confusion_matrix(testY, predicted_labels)\n",
    "print(classification_report(testY, predicted_labels))\n",
    "\n",
    "plt.figure(figsize=(16,16))\n",
    "ax= plt.subplot()\n",
    "sns.heatmap(cm, fmt='g',annot=True, ax = ax,cmap=plt.cm.Blues) #annot=True to annotate cells\n",
    "\n",
    "# labels, title and ticks\n",
    "ax.set_xlabel('Predicted labels')\n",
    "ax.set_ylabel('True labels')\n",
    "ax.set_title('Confusion Matrix')\n",
    "\n",
    "plt.show()\n"
   ]
  },
  {
   "cell_type": "code",
   "execution_count": 29,
   "id": "3f5baedb",
   "metadata": {},
   "outputs": [],
   "source": [
    "labelNames = \"0123456789\"\n",
    "labelNames += \"ABCDEFGHIJKLMNOPQRSTUVWXYZ\"\n",
    "labelNames = [l for l in labelNames]"
   ]
  },
  {
   "cell_type": "code",
   "execution_count": 33,
   "id": "bc2bc4f0",
   "metadata": {},
   "outputs": [
    {
     "name": "stdout",
     "output_type": "stream",
     "text": [
      "21\n",
      "L\n"
     ]
    },
    {
     "data": {
      "image/png": "[encoded data removed]",
      "text/plain": [
       "<Figure size 432x288 with 1 Axes>"
      ]
     },
     "metadata": {
      "needs_background": "light"
     },
     "output_type": "display_data"
    }
   ],
   "source": [
    "#print(testX[0].shape)\n",
    "plt.imshow(testX[100])\n",
    "print(testY[100])\n",
    "proba=model2.predict(testX[100].reshape(1,32,32,1))\n",
    "print(labelNames[np.argmax(proba)])"
   ]
  },
  {
   "cell_type": "code",
   "execution_count": null,
   "id": "0be840a0",
   "metadata": {},
   "outputs": [],
   "source": []
  },
  {
   "cell_type": "code",
   "execution_count": 15,
   "id": "eac2fbd5",
   "metadata": {},
   "outputs": [],
   "source": [
    "def define_model():\n",
    "\tmodel = Sequential()\n",
    "\tmodel.add(Conv2D(32, (3, 3), activation='relu', kernel_initializer='he_uniform', input_shape=(32, 32, 1)))\n",
    "\tmodel.add(MaxPooling2D((2, 2)))\n",
    "\tmodel.add(Conv2D(64, (3, 3), activation='relu', kernel_initializer='he_uniform'))\n",
    "\tmodel.add(Conv2D(64, (3, 3), activation='relu', kernel_initializer='he_uniform'))\n",
    "\tmodel.add(MaxPooling2D((2, 2)))\n",
    "\tmodel.add(Flatten())\n",
    "\tmodel.add(Dense(100, activation='relu', kernel_initializer='he_uniform'))\n",
    "\tmodel.add(Dense(10, activation='softmax'))\n",
    "\t# compile model\n",
    "\topt = SGD(learning_rate=0.01, momentum=0.9)\n",
    "\tmodel.compile(optimizer=opt, loss='categorical_crossentropy', metrics=['accuracy'])\n",
    "\treturn model"
   ]
  },
  {
   "cell_type": "code",
   "execution_count": null,
   "id": "753e54bb",
   "metadata": {},
   "outputs": [],
   "source": [
    "model=define_model()\n",
    "model.fit(trainX, trainY, epochs=10, batch_size=32, verbose=0)"
   ]
  },
  {
   "cell_type": "code",
   "execution_count": null,
   "id": "fde9d7ca",
   "metadata": {},
   "outputs": [],
   "source": []
  }
 ],
 "metadata": {
  "kernelspec": {
   "display_name": "Python 3 (ipykernel)",
   "language": "python",
   "name": "python3"
  },
  "language_info": {
   "codemirror_mode": {
    "name": "ipython",
    "version": 3
   },
   "file_extension": ".py",
   "mimetype": "text/x-python",
   "name": "python",
   "nbconvert_exporter": "python",
   "pygments_lexer": "ipython3",
   "version": "3.8.10"
  }
 },
 "nbformat": 4,
 "nbformat_minor": 5
}
