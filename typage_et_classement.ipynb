{
 "cells": [
  {
   "cell_type": "code",
   "execution_count": 1,
   "id": "bc1d6c67",
   "metadata": {},
   "outputs": [
    {
     "name": "stderr",
     "output_type": "stream",
     "text": [
      "2022-05-12 15:28:03.094335: W tensorflow/stream_executor/platform/default/dso_loader.cc:64] Could not load dynamic library 'libcudart.so.11.0'; dlerror: libcudart.so.11.0: cannot open shared object file: No such file or directory; LD_LIBRARY_PATH: /home/yasmine/jupyter/environment/lib/python3.8/site-packages/cv2/../../lib64:\n",
      "2022-05-12 15:28:03.094455: I tensorflow/stream_executor/cuda/cudart_stub.cc:29] Ignore above cudart dlerror if you do not have a GPU set up on your machine.\n"
     ]
    }
   ],
   "source": [
    "import os\n",
    "import cv2\n",
    "import tensorflow as tf\n",
    "from pdf2image import convert_from_path\n",
    "import matplotlib.pyplot as plt\n",
    "import numpy as np\n",
    "import re\n",
    "import easyocr\n",
    "from tensorflow.keras.models import load_model\n",
    "from pdf2image import convert_from_path, convert_from_bytes\n",
    "from pdf2image.exceptions import (\n",
    "    PDFInfoNotInstalledError,\n",
    "    PDFPageCountError,\n",
    "    PDFSyntaxError\n",
    ")\n",
    "from pyzbar.pyzbar import decode"
   ]
  },
  {
   "cell_type": "code",
   "execution_count": 2,
   "id": "75e3b477",
   "metadata": {},
   "outputs": [
    {
     "name": "stderr",
     "output_type": "stream",
     "text": [
      "2022-05-12 15:30:21.232976: E tensorflow/stream_executor/cuda/cuda_driver.cc:271] failed call to cuInit: CUDA_ERROR_NO_DEVICE: no CUDA-capable device is detected\n",
      "2022-05-12 15:30:21.233064: I tensorflow/stream_executor/cuda/cuda_diagnostics.cc:156] kernel driver does not appear to be running on this host (yasmine-Lenovo-ideapad-130-15IKB): /proc/driver/nvidia/version does not exist\n",
      "2022-05-12 15:30:21.270726: I tensorflow/core/platform/cpu_feature_guard.cc:151] This TensorFlow binary is optimized with oneAPI Deep Neural Network Library (oneDNN) to use the following CPU instructions in performance-critical operations:  AVX2 FMA\n",
      "To enable them in other operations, rebuild TensorFlow with the appropriate compiler flags.\n",
      "2022-05-12 15:30:21.919616: W tensorflow/core/framework/cpu_allocator_impl.cc:82] Allocation of 50176000 exceeds 10% of free system memory.\n",
      "2022-05-12 15:30:22.029684: W tensorflow/core/framework/cpu_allocator_impl.cc:82] Allocation of 50176000 exceeds 10% of free system memory.\n",
      "2022-05-12 15:30:22.048085: W tensorflow/core/framework/cpu_allocator_impl.cc:82] Allocation of 50176000 exceeds 10% of free system memory.\n",
      "2022-05-12 15:30:28.274394: W tensorflow/core/framework/cpu_allocator_impl.cc:82] Allocation of 50176000 exceeds 10% of free system memory.\n",
      "2022-05-12 15:30:28.448459: W tensorflow/core/framework/cpu_allocator_impl.cc:82] Allocation of 50176000 exceeds 10% of free system memory.\n"
     ]
    }
   ],
   "source": [
    "model = load_model('VGG16_DocClassifierv3.model')"
   ]
  },
  {
   "cell_type": "code",
   "execution_count": 12,
   "id": "0ba5e1d6",
   "metadata": {},
   "outputs": [],
   "source": [
    "model.save(\"VGG16_DocClassifierv3.h5\")"
   ]
  },
  {
   "cell_type": "code",
   "execution_count": 3,
   "id": "656afda0",
   "metadata": {},
   "outputs": [],
   "source": [
    "def image_preprocessing(path):\n",
    "    img=cv2.imread(path)\n",
    "    img = cv2.cvtColor(img, cv2.COLOR_BGR2GRAY)\n",
    "    img_blur = cv2.GaussianBlur(img,(5,5),0)\n",
    "    img = cv2.threshold(img, 100, 255, cv2.THRESH_OTSU | cv2.THRESH_BINARY)[1]\n",
    "    #plt.imshow(img)\n",
    "    #cv2.imwrite(r\"th.png\",img)\n",
    "    return img"
   ]
  },
  {
   "cell_type": "code",
   "execution_count": 4,
   "id": "b7d535fe",
   "metadata": {},
   "outputs": [],
   "source": [
    "def BarcodeReader(img):\n",
    "    \n",
    "    # Decode the barcode image\n",
    "    detectedBarcodes = decode(img)\n",
    "    \n",
    "    # If not detected then print the message\n",
    "    if not detectedBarcodes:\n",
    "        print(\"Barcode Not Detected or your barcode is blank/corrupted!\")\n",
    "    else:\n",
    "    \n",
    "        # Traverse through all the detected barcodes in image\n",
    "        for barcode in detectedBarcodes:\n",
    "        \n",
    "            # Locate the barcode position in image\n",
    "            (x, y, w, h) = barcode.rect\n",
    "            \n",
    "            # Put the rectangle in image using\n",
    "            # cv2 to heighlight the barcode\n",
    "            cv2.rectangle(img, (x-10, y-10),\n",
    "                        (x + w+10, y + h+10),\n",
    "                        (255, 0, 0), 2)\n",
    "            \n",
    "            if barcode.data!=\"\":\n",
    "            \n",
    "            # Print the barcode data\n",
    "                print(barcode.data)\n",
    "                print(barcode.type)\n",
    "                \n",
    "            \n",
    "    return barcode.data.decode(\"utf-8\")"
   ]
  },
  {
   "cell_type": "code",
   "execution_count": 5,
   "id": "7c4816f0",
   "metadata": {},
   "outputs": [],
   "source": [
    "path=\"/home/yasmine/Téléchargements/2 29/\"\n",
    "data=[]\n",
    "name=[]\n",
    "for filename in os.listdir(path):\n",
    "    #print(filename)\n",
    "    images = convert_from_path(path+filename)\n",
    "    images[0].save('img.jpg', 'JPEG')\n",
    "    image = cv2.imread('img.jpg')\n",
    "    image = cv2.resize(image, (224,224))\n",
    "    image = tf.keras.preprocessing.image.img_to_array(image)\n",
    "    name.append(filename)\n",
    "    data.append(image)"
   ]
  },
  {
   "cell_type": "code",
   "execution_count": 6,
   "id": "d3e8733d",
   "metadata": {},
   "outputs": [
    {
     "name": "stdout",
     "output_type": "stream",
     "text": [
      "(161, 224, 224, 3)\n"
     ]
    }
   ],
   "source": [
    "data= np.array(data)\n",
    "print(data.shape)"
   ]
  },
  {
   "cell_type": "code",
   "execution_count": 7,
   "id": "1414f68f",
   "metadata": {},
   "outputs": [],
   "source": [
    "predicted_labels = model.predict(data)"
   ]
  },
  {
   "cell_type": "code",
   "execution_count": 8,
   "id": "e53510c4",
   "metadata": {},
   "outputs": [
    {
     "name": "stdout",
     "output_type": "stream",
     "text": [
      "(161, 5)\n"
     ]
    }
   ],
   "source": [
    "print(predicted_labels.shape)"
   ]
  },
  {
   "cell_type": "code",
   "execution_count": 10,
   "id": "ec6d1865",
   "metadata": {},
   "outputs": [
    {
     "name": "stdout",
     "output_type": "stream",
     "text": [
      "[4.83791140e-08 1.59261745e-05 6.06091553e-03 1.08976535e-01\n",
      " 8.84946585e-01]\n"
     ]
    }
   ],
   "source": [
    "print(predicted_labels[0])"
   ]
  },
  {
   "cell_type": "code",
   "execution_count": 11,
   "id": "a35f9a56",
   "metadata": {},
   "outputs": [
    {
     "name": "stdout",
     "output_type": "stream",
     "text": [
      "True\n"
     ]
    }
   ],
   "source": [
    "print((np.max(predicted_labels[0]).any()))"
   ]
  },
  {
   "cell_type": "code",
   "execution_count": 9,
   "id": "605102c6",
   "metadata": {},
   "outputs": [],
   "source": [
    "def typage(path):\n",
    "    path1=\"/home/yasmine/Téléchargements/2 29/\"\n",
    "    for i in range(len(predicted_labels)) :\n",
    "        if max(predicted_labels[i])>=0.995:\n",
    "            if max(predicted_labels[i])==predicted_labels[i][0]:\n",
    "                if not os.path.exists(path+\"01/\"):\n",
    "                    os.makedirs(path+\"01/\")\n",
    "                    #print(\"document de classe 0\")\n",
    "                    images = convert_from_path(path1+name[i])\n",
    "                    #print(path+name[i])\n",
    "                    images[0].save('img.jpg', 'JPEG')\n",
    "                    image = cv2.imread('img.jpg')\n",
    "                    cv2.imwrite(path+\"01/\"+name[i].lower().replace(\"pdf\", \"jpg\", 1),image)\n",
    "                else:\n",
    "                    images = convert_from_path(path1+name[i])\n",
    "                    #print(path+name[i])\n",
    "                    images[0].save('img.jpg', 'JPEG')\n",
    "                    image = cv2.imread('img.jpg')\n",
    "                    cv2.imwrite(path+\"01/\"+name[i].lower().replace(\"pdf\", \"jpg\", 1),image)\n",
    "                \n",
    "            \n",
    "            \n",
    "            elif max(predicted_labels[i])==predicted_labels[i][1]:\n",
    "                if not os.path.exists(path+\"02/\"):\n",
    "                    os.makedirs(path+\"02/\")\n",
    "                    #print(\"document de classe 1\")\n",
    "                    images = convert_from_path(path1+name[i])\n",
    "                    images[0].save('img.jpg', 'JPEG')\n",
    "                    image = cv2.imread('img.jpg')\n",
    "                    cv2.imwrite(path+\"02/\"+name[i].lower().replace(\"pdf\", \"jpg\", 1),image)\n",
    "                else:\n",
    "                    images = convert_from_path(path1+name[i])\n",
    "                    images[0].save('img.jpg', 'JPEG')\n",
    "                    image = cv2.imread('img.jpg')\n",
    "                    cv2.imwrite(path+\"02/\"+name[i].lower().replace(\"pdf\", \"jpg\", 1),image)\n",
    "                \n",
    "            elif max(predicted_labels[i])==predicted_labels[i][2]:\n",
    "                if not os.path.exists(path+\"03/\"):\n",
    "                    os.makedirs(path+\"03/\")\n",
    "                    #print(\"document de classe 2\")\n",
    "                    images = convert_from_path(path1+name[i])\n",
    "                    images[0].save('img.jpg', 'JPEG')\n",
    "                    image = cv2.imread('img.jpg')\n",
    "                    cv2.imwrite(path+\"03/\"+name[i].lower().replace(\"pdf\", \"jpg\", 1),image)\n",
    "                else:\n",
    "                    images = convert_from_path(path1+name[i])\n",
    "                    images[0].save('img.jpg', 'JPEG')\n",
    "                    image = cv2.imread('img.jpg')\n",
    "                    cv2.imwrite(path+\"03/\"+name[i].lower().replace(\"pdf\", \"jpg\", 1),image)\n",
    "                    \n",
    "            elif max(predicted_labels[i])==predicted_labels[i][4]:\n",
    "                if not os.path.exists(path+\"09/\"):\n",
    "                    os.makedirs(path+\"09/\")\n",
    "                    #print(\"document de classe 2\")\n",
    "                    images = convert_from_path(path1+name[i])\n",
    "                    images[0].save('img.jpg', 'JPEG')\n",
    "                    image = cv2.imread('img.jpg')\n",
    "                    cv2.imwrite(path+\"09/\"+name[i].lower().replace(\"pdf\", \"jpg\", 1),image)\n",
    "                else:\n",
    "                    images = convert_from_path(path1+name[i])\n",
    "                    images[0].save('img.jpg', 'JPEG')\n",
    "                    image = cv2.imread('img.jpg')\n",
    "                    cv2.imwrite(path+\"09/\"+name[i].lower().replace(\"pdf\", \"jpg\", 1),image)       \n",
    "            \n",
    "            else:\n",
    "                if not os.path.exists(path+\"11/\"):\n",
    "                    os.makedirs(path+\"11/\")\n",
    "                    #print(\"document de classe 3\")\n",
    "                    images = convert_from_path(path1+name[i])\n",
    "                    images[0].save('img.jpg', 'JPEG')\n",
    "                    image = cv2.imread('img.jpg')\n",
    "                    cv2.imwrite(path+\"11/\"+name[i].lower().replace(\"pdf\", \"jpg\", 1),image)\n",
    "                else:\n",
    "                    images = convert_from_path(path1+name[i])\n",
    "                    images[0].save('img.jpg', 'JPEG')\n",
    "                    image = cv2.imread('img.jpg')\n",
    "                    cv2.imwrite(path+\"11/\"+name[i].lower().replace(\"pdf\", \"jpg\", 1),image)\n",
    "        else:\n",
    "        \n",
    "            \n",
    "            images = convert_from_path(path1+name[i])\n",
    "            images[0].save('img.jpg', 'JPEG')\n",
    "            image = cv2.imread('img.jpg')\n",
    "            cv2.imwrite(path+name[i].lower().replace(\"pdf\", \"jpg\", 1),image)\n",
    "    "
   ]
  },
  {
   "cell_type": "code",
   "execution_count": 17,
   "id": "1afa069e",
   "metadata": {},
   "outputs": [
    {
     "name": "stdout",
     "output_type": "stream",
     "text": [
      "b'06072020029'\n",
      "CODE128\n"
     ]
    },
    {
     "data": {
      "image/png": "[encoded data removed]",
      "text/plain": [
       "<Figure size 432x288 with 1 Axes>"
      ]
     },
     "metadata": {
      "needs_background": "light"
     },
     "output_type": "display_data"
    }
   ],
   "source": [
    "path=\"/home/yasmine/Téléchargements/2 29/\"\n",
    "j=0\n",
    "image = convert_from_path(path+\"20200716-00100001.pdf\")\n",
    "#plt.imshow(image)\n",
    "image[0].save('img.jpg', 'JPEG')\n",
    "plt.imshow(image[0])\n",
    "image=image_preprocessing('img.jpg')\n",
    "\n",
    "result=BarcodeReader(image)\n",
    "jour=result[:2]\n",
    "mois=result[2:4]\n",
    "annee=result[4:8]\n",
    "ca=result[8:]\n",
    "if not os.path.exists(\"/home/yasmine/Téléchargements/banque/\"+annee+\"/\"):\n",
    "    os.makedirs(\"/home/yasmine/Téléchargements/banque/\"+annee+\"/\")\n",
    "    if not os.path.exists(\"/home/yasmine/Téléchargements/banque/\"+annee+\"/Mois_\"+mois+\"/\"):\n",
    "        os.makedirs(\"/home/yasmine/Téléchargements/banque/\"+annee+\"/Mois_\"+mois+\"/\")\n",
    "        if not os.path.exists(\"/home/yasmine/Téléchargements/banque/\"+annee+\"/Mois_\"+mois+\"/\"):\n",
    "            os.makedirs(\"/home/yasmine/Téléchargements/banque/\"+annee+\"/\"+mois+\"/\")\n",
    "            if not os.path.exists(\"/home/yasmine/Téléchargements/banque/\"+annee+\"/Mois_\"+mois+\"/Agence_\"+ca+\"/\"):\n",
    "                os.makedirs(\"/home/yasmine/Téléchargements/banque/\"+annee+\"/Mois_\"+mois+\"/Agence_\"+ca+\"/\")\n",
    "                if not os.path.exists(\"/home/yasmine/Téléchargements/banque/\"+annee+\"/Mois_\"+mois+\"/Agence_\"+ca+\"/\"+jour+mois+annee+\"_\"+ca+\"/\"):\n",
    "                    os.makedirs(\"/home/yasmine/Téléchargements/banque/\"+annee+\"/Mois_\"+mois+\"/Agence_\"+ca+\"/\"+jour+mois+annee+\"_\"+ca+\"/\")\n",
    "                    typage(\"/home/yasmine/Téléchargements/banque/\"+annee+\"/Mois_\"+mois+\"/Agence_\"+ca+\"/\"+jour+mois+annee+\"_\"+ca+\"/\")\n",
    "                else:\n",
    "                    typage(\"/home/yasmine/Téléchargements/banque/\"+annee+\"/Mois_\"+mois+\"/Agence_\"+ca+\"/\"+jour+mois+annee+\"_\"+ca+\"/\")\n",
    "            else:\n",
    "                if not os.path.exists(\"/home/yasmine/Téléchargements/banque/\"+annee+\"/Mois_\"+mois+\"/Agence_\"+ca+\"/\"+jour+mois+annee+\"_\"+ca+\"/\"):\n",
    "                    os.makedirs(\"/home/yasmine/Téléchargements/banque/\"+annee+\"/Mois_\"+mois+\"/Agence_\"+ca+\"/\"+jour+mois+annee+\"_\"+ca+\"/\")\n",
    "                    typage(\"/home/yasmine/Téléchargements/banque/\"+annee+\"/Mois_\"+mois+\"/Agence_\"+ca+\"/\"+jour+mois+annee+\"_\"+ca+\"/\")\n",
    "                else:\n",
    "                    typage(\"/home/yasmine/Téléchargements/banque/\"+annee+\"/Mois_\"+mois+\"/Agence_\"+ca+\"/\"+jour+mois+annee+\"_\"+ca+\"/\")\n",
    "        else:\n",
    "            if not os.path.exists(\"/home/yasmine/Téléchargements/banque/\"+annee+\"/Mois_\"+mois+\"/Agence_\"+ca+\"/\"):\n",
    "                os.makedirs(\"/home/yasmine/Téléchargements/banque/\"+annee+\"/Mois_\"+mois+\"/Agence_\"+ca+\"/\")\n",
    "                if not os.path.exists(\"/home/yasmine/Téléchargements/banque/\"+annee+\"/Mois_\"+mois+\"/Agence_\"+ca+\"/\"+jour+mois+annee+\"_\"+ca+\"/\"):\n",
    "                    os.makedirs(\"/home/yasmine/Téléchargements/banque/\"+annee+\"/Mois_\"+mois+\"/Agence_\"+ca+\"/\"+jour+mois+annee+\"_\"+ca+\"/\")\n",
    "                    typage(\"/home/yasmine/Téléchargements/banque/\"+annee+\"/Mois_\"+mois+\"/Agence_\"+ca+\"/\"+jour+mois+annee+\"_\"+ca+\"/\")\n",
    "                else:\n",
    "                    typage(\"/home/yasmine/Téléchargements/banque/\"+annee+\"/Mois_\"+mois+\"/Agence_\"+ca+\"/\"+jour+mois+annee+\"_\"+ca+\"/\")\n",
    "            else:\n",
    "                if not os.path.exists(\"/home/yasmine/Téléchargements/banque/\"+annee+\"/Mois_\"+mois+\"/Agence_\"+ca+\"/\"+jour+mois+annee+\"_\"+ca+\"/\"):        \n",
    "                    os.makedirs(\"/home/yasmine/Téléchargements/banque/\"+annee+\"/\"+mois+\"/Agence_\"+ca+\"/\"+jour+mois+annee+\"_\"+ca+\"/\")\n",
    "                    typage(\"/home/yasmine/Téléchargements/banque/\"+annee+\"/Mois_\"+mois+\"/Agence_\"+ca+\"/\"+jour+mois+annee+\"_\"+ca+\"/\")\n",
    "                else:\n",
    "                    typage(\"/home/yasmine/Téléchargements/banque/\"+annee+\"/Mois_\"+mois+\"/Agence_\"+ca+\"/\"+jour+mois+annee+\"_\"+ca+\"/\")\n",
    "                    \n",
    "    else:\n",
    "        if not os.path.exists(\"/home/yasmine/Téléchargements/banque/\"+annee+\"/Mois_\"+mois+\"/\"):\n",
    "            os.makedirs(\"/home/yasmine/Téléchargements/banque/\"+annee+\"/Mois_\"+mois+\"/\")\n",
    "            if not os.path.exists(\"/home/yasmine/Téléchargements/banque/\"+annee+\"/Mois_\"+mois+\"/Agence_\"+ca+\"/\"):\n",
    "                os.makedirs(\"/home/yasmine/Téléchargements/banque/\"+annee+\"/Mois_\"+mois+\"/Agence_\"+ca+\"/\")\n",
    "                if not os.path.exists(\"/home/yasmine/Téléchargements/banque/\"+annee+\"/Mois_\"+mois+\"/Agence_\"+ca+\"/\"+jour+mois+annee+\"_\"+ca+\"/\"):\n",
    "                    os.makedirs(\"/home/yasmine/Téléchargements/banque/\"+annee+\"/Mois_\"+mois+\"/Agence_\"+ca+\"/\"+jour+mois+annee+\"_\"+ca+\"/\")\n",
    "                    typage(\"/home/yasmine/Téléchargements/banque/\"+annee+\"/Mois_\"+mois+\"/Agence_\"+ca+\"/\"+jour+mois+annee+\"_\"+ca+\"/\")\n",
    "                else:\n",
    "                    typage(\"/home/yasmine/Téléchargements/banque/\"+annee+\"/Mois_\"+mois+\"/Agence_\"+ca+\"/\"+jour+mois+annee+\"_\"+ca+\"/\")\n",
    "            else:\n",
    "                if not os.path.exists(\"/home/yasmine/Téléchargements/banque/\"+annee+\"/Mois_\"+mois+\"/Agence_\"+ca+\"/\"+jour+mois+annee+\"_\"+ca+\"/\"):\n",
    "                    os.makedirs(\"/home/yasmine/Téléchargements/banque/\"+annee+\"/Mois_\"+mois+\"/Agence_\"+ca+\"/\"+jour+mois+annee+\"_\"+ca+\"/\")\n",
    "                    typage(\"/home/yasmine/Téléchargements/banque/\"+annee+\"/Mois_\"+mois+\"/Agence_\"+ca+\"/\"+jour+mois+annee+\"_\"+ca+\"/\")\n",
    "                else:\n",
    "                    typage(\"/home/yasmine/Téléchargements/banque/\"+annee+\"/Mois_\"+mois+\"/Agence_\"+ca+\"/\"+jour+mois+annee+\"_\"+ca+\"/\")\n",
    "        else:\n",
    "            if not os.path.exists(\"/home/yasmine/Téléchargements/banque/\"+annee+\"/Mois_\"+mois+\"/Agence_\"+ca+\"/\"):\n",
    "                os.makedirs(\"/home/yasmine/Téléchargements/banque/\"+annee+\"/Mois_\"+mois+\"/Agence_\"+ca+\"/\")\n",
    "                if not os.path.exists(\"/home/yasmine/Téléchargements/banque/\"+annee+\"/Mois_\"+mois+\"/Agence_\"+ca+\"/\"+jour+mois+annee+\"_\"+ca+\"/\"):\n",
    "                    os.makedirs(\"/home/yasmine/Téléchargements/banque/\"+annee+\"/Mois_\"+mois+\"/Agence_\"+ca+\"/\"+jour+mois+annee+\"_\"+ca+\"/\")\n",
    "                    typage(\"/home/yasmine/Téléchargements/banque/\"+annee+\"/Mois_\"+mois+\"/Agence_\"+ca+\"/\"+jour+mois+annee+\"_\"+ca+\"/\")\n",
    "                else:\n",
    "                    typage(\"/home/yasmine/Téléchargements/banque/\"+annee+\"/Mois_\"+mois+\"/Agence_\"+ca+\"/\"+jour+mois+annee+\"_\"+ca+\"/\")\n",
    "            else:\n",
    "                if not os.path.exists(\"/home/yasmine/Téléchargements/banque/\"+annee+\"/Mois_\"+mois+\"/Agence_\"+ca+\"/\"+jour+mois+annee+\"_\"+ca+\"/\"):\n",
    "                    os.makedirs(\"/home/yasmine/Téléchargements/banque/\"+annee+\"/Mois_\"+mois+\"/Agence_\"+ca+\"/\"+jour+mois+annee+\"_\"+ca+\"/\")\n",
    "                    typage(\"/home/yasmine/Téléchargements/banque/\"+annee+\"/Mois_\"+mois+\"/Agence_\"+ca+\"/\"+jour+mois+annee+\"_\"+ca+\"/\")\n",
    "                else:\n",
    "                    typage(\"/home/yasmine/Téléchargements/banque/\"+annee+\"/Mois_\"+mois+\"/Agence_\"+ca+\"/\"+jour+mois+annee+\"_\"+ca+\"/\")\n",
    "        \n",
    "                \n",
    "else:\n",
    "    \n",
    "    if not os.path.exists(\"/home/yasmine/Téléchargements/banque/\"+annee+\"/Mois_\"+mois+\"/\"):\n",
    "        os.makedirs(\"/home/yasmine/Téléchargements/banque/\"+annee+\"/Mois_\"+mois+\"/\")\n",
    "        if not os.path.exists(\"/home/yasmine/Téléchargements/banque/\"+annee+\"/Mois_\"+mois+\"/\"):\n",
    "            os.makedirs(\"/home/yasmine/Téléchargements/banque/\"+annee+\"/\"+mois+\"/\")\n",
    "            if not os.path.exists(\"/home/yasmine/Téléchargements/banque/\"+annee+\"/Mois_\"+mois+\"/Agence_\"+ca+\"/\"):\n",
    "                os.makedirs(\"/home/yasmine/Téléchargements/banque/\"+annee+\"/Mois_\"+mois+\"/Agence_\"+ca+\"/\")\n",
    "                if not os.path.exists(\"/home/yasmine/Téléchargements/banque/\"+annee+\"/Mois_\"+mois+\"/Agence_\"+ca+\"/\"+jour+mois+annee+\"_\"+ca+\"/\"):\n",
    "                    os.makedirs(\"/home/yasmine/Téléchargements/banque/\"+annee+\"/Mois_\"+mois+\"/Agence_\"+ca+\"/\"+jour+mois+annee+\"_\"+ca+\"/\")\n",
    "                    typage(\"/home/yasmine/Téléchargements/banque/\"+annee+\"/Mois_\"+mois+\"/Agence_\"+ca+\"/\"+jour+mois+annee+\"_\"+ca+\"/\")\n",
    "                else:\n",
    "                    typage(\"/home/yasmine/Téléchargements/banque/\"+annee+\"/Mois_\"+mois+\"/Agence_\"+ca+\"/\"+jour+mois+annee+\"_\"+ca+\"/\")\n",
    "            else:\n",
    "                if not os.path.exists(\"/home/yasmine/Téléchargements/banque/\"+annee+\"/Mois_\"+mois+\"/Agence_\"+ca+\"/\"+jour+mois+annee+\"_\"+ca+\"/\"):\n",
    "                    os.makedirs(\"/home/yasmine/Téléchargements/banque/\"+annee+\"/Mois_\"+mois+\"/Agence_\"+ca+\"/\"+jour+mois+annee+\"_\"+ca+\"/\")\n",
    "                    typage(\"/home/yasmine/Téléchargements/banque/\"+annee+\"/Mois_\"+mois+\"/Agence_\"+ca+\"/\"+jour+mois+annee+\"_\"+ca+\"/\")\n",
    "                else:\n",
    "                    typage(\"/home/yasmine/Téléchargements/banque/\"+annee+\"/Mois_\"+mois+\"/Agence_\"+ca+\"/\"+jour+mois+annee+\"_\"+ca+\"/\")\n",
    "        else:\n",
    "            if not os.path.exists(\"/home/yasmine/Téléchargements/banque/\"+annee+\"/Mois_\"+mois+\"/Agence_\"+ca+\"/\"):\n",
    "                os.makedirs(\"/home/yasmine/Téléchargements/banque/\"+annee+\"/Mois_\"+mois+\"/Agence_\"+ca+\"/\")\n",
    "                if not os.path.exists(\"/home/yasmine/Téléchargements/banque/\"+annee+\"/Mois_\"+mois+\"/Agence_\"+ca+\"/\"+jour+mois+annee+\"_\"+ca+\"/\"):\n",
    "                    os.makedirs(\"/home/yasmine/Téléchargements/banque/\"+annee+\"/Mois_\"+mois+\"/Agence_\"+ca+\"/\"+jour+mois+annee+\"_\"+ca+\"/\")\n",
    "                    typage(\"/home/yasmine/Téléchargements/banque/\"+annee+\"/Mois_\"+mois+\"/Agence_\"+ca+\"/\"+jour+mois+annee+\"_\"+ca+\"/\")\n",
    "                else:\n",
    "                    typage(\"/home/yasmine/Téléchargements/banque/\"+annee+\"/Mois_\"+mois+\"/Agence_\"+ca+\"/\"+jour+mois+annee+\"_\"+ca+\"/\")\n",
    "            else:\n",
    "                if not os.path.exists(\"/home/yasmine/Téléchargements/banque/\"+annee+\"/Mois_\"+mois+\"/Agence_\"+ca+\"/\"+jour+mois+annee+\"_\"+ca+\"/\"):   \n",
    "                    os.makedirs(\"/home/yasmine/Téléchargements/banque/\"+annee+\"/\"+mois+\"/Agence_\"+ca+\"/\"+jour+mois+annee+\"_\"+ca+\"/\")\n",
    "                    typage(\"/home/yasmine/Téléchargements/banque/\"+annee+\"/Mois_\"+mois+\"/Agence_\"+ca+\"/\"+jour+mois+annee+\"_\"+ca+\"/\")\n",
    "                else:\n",
    "                    typage(\"/home/yasmine/Téléchargements/banque/\"+annee+\"/Mois_\"+mois+\"/Agence_\"+ca+\"/\"+jour+mois+annee+\"_\"+ca+\"/\")\n",
    "                    \n",
    "    else:\n",
    "        if not os.path.exists(\"/home/yasmine/Téléchargements/banque/\"+annee+\"/Mois_\"+mois+\"/\"):\n",
    "            os.makedirs(\"/home/yasmine/Téléchargements/banque/\"+annee+\"/Mois_\"+mois+\"/\")\n",
    "            if not os.path.exists(\"/home/yasmine/Téléchargements/banque/\"+annee+\"/Mois_\"+mois+\"/Agence_\"+ca+\"/\"):\n",
    "                os.makedirs(\"/home/yasmine/Téléchargements/banque/\"+annee+\"/Mois_\"+mois+\"/Agence_\"+ca+\"/\")\n",
    "                if not os.path.exists(\"/home/yasmine/Téléchargements/banque/\"+annee+\"/Mois_\"+mois+\"/Agence_\"+ca+\"/\"+jour+mois+annee+\"_\"+ca+\"/\"):\n",
    "                    os.makedirs(\"/home/yasmine/Téléchargements/banque/\"+annee+\"/Mois_\"+mois+\"/Agence_\"+ca+\"/\"+jour+mois+annee+\"_\"+ca+\"/\")\n",
    "                    typage(\"/home/yasmine/Téléchargements/banque/\"+annee+\"/Mois_\"+mois+\"/Agence_\"+ca+\"/\"+jour+mois+annee+\"_\"+ca+\"/\")\n",
    "                else:\n",
    "                    typage(\"/home/yasmine/Téléchargements/banque/\"+annee+\"/Mois_\"+mois+\"/Agence_\"+ca+\"/\"+jour+mois+annee+\"_\"+ca+\"/\")\n",
    "            else:\n",
    "                if not os.path.exists(\"/home/yasmine/Téléchargements/banque/\"+annee+\"/Mois_\"+mois+\"/Agence_\"+ca+\"/\"+jour+mois+annee+\"_\"+ca+\"/\"):\n",
    "                    os.makedirs(\"/home/yasmine/Téléchargements/banque/\"+annee+\"/Mois_\"+mois+\"/Agence_\"+ca+\"/\"+jour+mois+annee+\"_\"+ca+\"/\")\n",
    "                    typage(\"/home/yasmine/Téléchargements/banque/\"+annee+\"/Mois_\"+mois+\"/Agence_\"+ca+\"/\"+jour+mois+annee+\"_\"+ca+\"/\")\n",
    "                else:\n",
    "                    typage(\"/home/yasmine/Téléchargements/banque/\"+annee+\"/Mois_\"+mois+\"/Agence_\"+ca+\"/\"+jour+mois+annee+\"_\"+ca+\"/\")\n",
    "        else:\n",
    "            if not os.path.exists(\"/home/yasmine/Téléchargements/banque/\"+annee+\"/Mois_\"+mois+\"/Agence_\"+ca+\"/\"):\n",
    "                os.makedirs(\"/home/yasmine/Téléchargements/banque/\"+annee+\"/Mois_\"+mois+\"/Agence_\"+ca+\"/\")\n",
    "                if not os.path.exists(\"/home/yasmine/Téléchargements/banque/\"+annee+\"/Mois_\"+mois+\"/Agence_\"+ca+\"/\"+jour+mois+annee+\"_\"+ca+\"/\"):\n",
    "                    os.makedirs(\"/home/yasmine/Téléchargements/banque/\"+annee+\"/Mois_\"+mois+\"/Agence_\"+ca+\"/\"+jour+mois+annee+\"_\"+ca+\"/\")\n",
    "                    typage(\"/home/yasmine/Téléchargements/banque/\"+annee+\"/Mois_\"+mois+\"/Agence_\"+ca+\"/\"+jour+mois+annee+\"_\"+ca+\"/\")\n",
    "                else:\n",
    "                    typage(\"/home/yasmine/Téléchargements/banque/\"+annee+\"/Mois_\"+mois+\"/Agence_\"+ca+\"/\"+jour+mois+annee+\"_\"+ca+\"/\")\n",
    "            else:\n",
    "                if not os.path.exists(\"/home/yasmine/Téléchargements/banque/\"+annee+\"/Mois_\"+mois+\"/Agence_\"+ca+\"/\"+jour+mois+annee+\"_\"+ca+\"/\"):\n",
    "                    os.makedirs(\"/home/yasmine/Téléchargements/banque/\"+annee+\"/Mois_\"+mois+\"/Agence_\"+ca+\"/\"+jour+mois+annee+\"_\"+ca+\"/\")\n",
    "                    typage(\"/home/yasmine/Téléchargements/banque/\"+annee+\"/Mois_\"+mois+\"/Agence_\"+ca+\"/\"+jour+mois+annee+\"_\"+ca+\"/\")\n",
    "                else:\n",
    "                    typage(\"/home/yasmine/Téléchargements/banque/\"+annee+\"/Mois_\"+mois+\"/Agence_\"+ca+\"/\"+jour+mois+annee+\"_\"+ca+\"/\")\n",
    "        \n",
    "    \n",
    "       "
   ]
  },
  {
   "cell_type": "code",
   "execution_count": null,
   "id": "7503b120",
   "metadata": {},
   "outputs": [],
   "source": []
  }
 ],
 "metadata": {
  "kernelspec": {
   "display_name": "Python 3 (ipykernel)",
   "language": "python",
   "name": "python3"
  },
  "language_info": {
   "codemirror_mode": {
    "name": "ipython",
    "version": 3
   },
   "file_extension": ".py",
   "mimetype": "text/x-python",
   "name": "python",
   "nbconvert_exporter": "python",
   "pygments_lexer": "ipython3",
   "version": "3.8.10"
  }
 },
 "nbformat": 4,
 "nbformat_minor": 5
}
