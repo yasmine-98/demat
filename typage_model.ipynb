{
 "cells": [
  {
   "cell_type": "code",
   "execution_count": 1,
   "id": "55cf6b94",
   "metadata": {},
   "outputs": [
    {
     "name": "stderr",
     "output_type": "stream",
     "text": [
      "2022-05-01 15:33:04.787596: W tensorflow/stream_executor/platform/default/dso_loader.cc:64] Could not load dynamic library 'libcudart.so.11.0'; dlerror: libcudart.so.11.0: cannot open shared object file: No such file or directory; LD_LIBRARY_PATH: /home/yasmine/jupyter/environment/lib/python3.8/site-packages/cv2/../../lib64:\n",
      "2022-05-01 15:33:04.787684: I tensorflow/stream_executor/cuda/cudart_stub.cc:29] Ignore above cudart dlerror if you do not have a GPU set up on your machine.\n"
     ]
    }
   ],
   "source": [
    "import os\n",
    "import cv2\n",
    "import tensorflow as tf\n",
    "from pdf2image import convert_from_path\n",
    "import numpy as np\n",
    "from tensorflow.keras.utils import to_categorical\n",
    "from tensorflow.keras.preprocessing.image import ImageDataGenerator\n",
    "from sklearn.model_selection import train_test_split\n",
    "from tensorflow.keras.applications import VGG16\n",
    "from tensorflow.keras.layers import Dense, Dropout, Flatten\n",
    "from tensorflow.keras.optimizers import Adam\n",
    "from tensorflow.keras import Model\n",
    "from tensorflow.keras.callbacks import Callback\n",
    "from tqdm import tqdm\n",
    "from sklearn.utils import shuffle\n",
    "import matplotlib.pyplot as plt\n",
    "from sklearn.preprocessing import LabelEncoder\n",
    "from sklearn.metrics import classification_report, confusion_matrix, accuracy_score, plot_confusion_matrix\n",
    "import seaborn as sns\n"
   ]
  },
  {
   "cell_type": "code",
   "execution_count": 3,
   "id": "169f3763",
   "metadata": {},
   "outputs": [],
   "source": [
    "path=\"/home/yasmine/Téléchargements/data/01/\"\n",
    "path1=\"/home/yasmine/Téléchargements/data/02/\"\n",
    "path2=\"/home/yasmine/Téléchargements/data/03/\"\n",
    "path3=\"/home/yasmine/Téléchargements/data/11/\"\n",
    "path4=\"/home/yasmine/Téléchargements/data/09/\"\n",
    "img_size=224 \n",
    "\n",
    "lables=[]\n",
    "data=[]\n",
    "for filename in os.listdir(path):\n",
    "    images = convert_from_path(path+filename)\n",
    "    # Save pages as images in the pdf\n",
    "    images[0].save('img.jpg', 'JPEG')\n",
    "    image = cv2.imread('img.jpg')\n",
    "    image = cv2.resize(image, (img_size,img_size))\n",
    "    image = tf.keras.preprocessing.image.img_to_array(image)\n",
    "    data.append(image)\n",
    "    lables.append(0)\n",
    "for filename in os.listdir(path1):\n",
    "    images = convert_from_path(path1+filename)\n",
    "    # Save pages as images in the pdf\n",
    "    images[0].save('img.jpg', 'JPEG')\n",
    "    image = cv2.imread('img.jpg')\n",
    "    image = cv2.resize(image, (img_size,img_size))\n",
    "    image = tf.keras.preprocessing.image.img_to_array(image)\n",
    "    data.append(image)\n",
    "    lables.append(1)\n",
    "for filename in os.listdir(path2):\n",
    "    images = convert_from_path(path2+filename)\n",
    "    # Save pages as images in the pdf\n",
    "    images[0].save('img.jpg', 'JPEG')\n",
    "    image = cv2.imread('img.jpg')\n",
    "    image = cv2.resize(image, (img_size,img_size))\n",
    "    image = tf.keras.preprocessing.image.img_to_array(image)\n",
    "    data.append(image)\n",
    "    lables.append(2)\n",
    "for filename in os.listdir(path3):\n",
    "    images = convert_from_path(path3+filename)\n",
    "    # Save pages as images in the pdf\n",
    "    images[0].save('img.jpg', 'JPEG')\n",
    "    image = cv2.imread('img.jpg')\n",
    "    image = cv2.resize(image, (img_size,img_size))\n",
    "    image = tf.keras.preprocessing.image.img_to_array(image)\n",
    "    data.append(image)\n",
    "    lables.append(3)\n",
    "for filename in os.listdir(path4):\n",
    "    images = convert_from_path(path4+filename)\n",
    "    # Save pages as images in the pdf\n",
    "    images[0].save('img.jpg', 'JPEG')\n",
    "    image = cv2.imread('img.jpg')\n",
    "    image = cv2.resize(image, (img_size,img_size))\n",
    "    image = tf.keras.preprocessing.image.img_to_array(image)\n",
    "    data.append(image)\n",
    "    lables.append(4)"
   ]
  },
  {
   "cell_type": "code",
   "execution_count": 4,
   "id": "d6114896",
   "metadata": {},
   "outputs": [
    {
     "name": "stdout",
     "output_type": "stream",
     "text": [
      "(160, 224, 224, 3)\n",
      "(160, 5)\n"
     ]
    }
   ],
   "source": [
    "train_lables=to_categorical(lables)\n",
    "train_images= np.array(data)\n",
    "print(train_images.shape)\n",
    "print(train_lables.shape)"
   ]
  },
  {
   "cell_type": "code",
   "execution_count": 5,
   "id": "1a2152d3",
   "metadata": {},
   "outputs": [],
   "source": [
    "# construct the image generator for data augmentation\n",
    "aug = ImageDataGenerator(\n",
    "    rotation_range=10,\n",
    "    zoom_range=0.05,\n",
    "    width_shift_range=0.1,\n",
    "    height_shift_range=0.1,\n",
    "    shear_range=0.15,\n",
    "    horizontal_flip=True,\n",
    "    fill_mode=\"nearest\")"
   ]
  },
  {
   "cell_type": "code",
   "execution_count": 6,
   "id": "eb95b0f4",
   "metadata": {},
   "outputs": [],
   "source": [
    "#split data into train and test\n",
    "train_images, test_images, train_lables, test_lables = train_test_split(train_images, train_lables, \n",
    "                                                    test_size=0.3,\n",
    "                                                    random_state = 47)"
   ]
  },
  {
   "cell_type": "code",
   "execution_count": 7,
   "id": "9fdf4678",
   "metadata": {},
   "outputs": [
    {
     "name": "stdout",
     "output_type": "stream",
     "text": [
      "(112, 224, 224, 3)\n",
      "(112, 5)\n",
      "(48, 224, 224, 3)\n",
      "(48, 5)\n"
     ]
    }
   ],
   "source": [
    "print(train_images.shape)\n",
    "print(train_lables.shape)\n",
    "print(test_images.shape)\n",
    "print(test_lables.shape)"
   ]
  },
  {
   "cell_type": "code",
   "execution_count": 8,
   "id": "bb70f335",
   "metadata": {},
   "outputs": [
    {
     "name": "stderr",
     "output_type": "stream",
     "text": [
      "2022-05-01 15:34:22.121805: E tensorflow/stream_executor/cuda/cuda_driver.cc:271] failed call to cuInit: CUDA_ERROR_NO_DEVICE: no CUDA-capable device is detected\n",
      "2022-05-01 15:34:22.121900: I tensorflow/stream_executor/cuda/cuda_diagnostics.cc:156] kernel driver does not appear to be running on this host (yasmine-Lenovo-ideapad-130-15IKB): /proc/driver/nvidia/version does not exist\n",
      "2022-05-01 15:34:22.140229: I tensorflow/core/platform/cpu_feature_guard.cc:151] This TensorFlow binary is optimized with oneAPI Deep Neural Network Library (oneDNN) to use the following CPU instructions in performance-critical operations:  AVX2 FMA\n",
      "To enable them in other operations, rebuild TensorFlow with the appropriate compiler flags.\n"
     ]
    },
    {
     "name": "stdout",
     "output_type": "stream",
     "text": [
      "Model: \"model\"\n",
      "_________________________________________________________________\n",
      " Layer (type)                Output Shape              Param #   \n",
      "=================================================================\n",
      " input_1 (InputLayer)        [(None, 224, 224, 3)]     0         \n",
      "                                                                 \n",
      " block1_conv1 (Conv2D)       (None, 224, 224, 64)      1792      \n",
      "                                                                 \n",
      " block1_conv2 (Conv2D)       (None, 224, 224, 64)      36928     \n",
      "                                                                 \n",
      " block1_pool (MaxPooling2D)  (None, 112, 112, 64)      0         \n",
      "                                                                 \n",
      " block2_conv1 (Conv2D)       (None, 112, 112, 128)     73856     \n",
      "                                                                 \n",
      " block2_conv2 (Conv2D)       (None, 112, 112, 128)     147584    \n",
      "                                                                 \n",
      " block2_pool (MaxPooling2D)  (None, 56, 56, 128)       0         \n",
      "                                                                 \n",
      " block3_conv1 (Conv2D)       (None, 56, 56, 256)       295168    \n",
      "                                                                 \n",
      " block3_conv2 (Conv2D)       (None, 56, 56, 256)       590080    \n",
      "                                                                 \n",
      " block3_conv3 (Conv2D)       (None, 56, 56, 256)       590080    \n",
      "                                                                 \n",
      " block3_pool (MaxPooling2D)  (None, 28, 28, 256)       0         \n",
      "                                                                 \n",
      " block4_conv1 (Conv2D)       (None, 28, 28, 512)       1180160   \n",
      "                                                                 \n",
      " block4_conv2 (Conv2D)       (None, 28, 28, 512)       2359808   \n",
      "                                                                 \n",
      " block4_conv3 (Conv2D)       (None, 28, 28, 512)       2359808   \n",
      "                                                                 \n",
      " block4_pool (MaxPooling2D)  (None, 14, 14, 512)       0         \n",
      "                                                                 \n",
      " block5_conv1 (Conv2D)       (None, 14, 14, 512)       2359808   \n",
      "                                                                 \n",
      " block5_conv2 (Conv2D)       (None, 14, 14, 512)       2359808   \n",
      "                                                                 \n",
      " block5_conv3 (Conv2D)       (None, 14, 14, 512)       2359808   \n",
      "                                                                 \n",
      " block5_pool (MaxPooling2D)  (None, 7, 7, 512)         0         \n",
      "                                                                 \n",
      " flatten (Flatten)           (None, 25088)             0         \n",
      "                                                                 \n",
      " dense (Dense)               (None, 500)               12544500  \n",
      "                                                                 \n",
      " dense_1 (Dense)             (None, 50)                25050     \n",
      "                                                                 \n",
      " dense_2 (Dense)             (None, 5)                 255       \n",
      "                                                                 \n",
      "=================================================================\n",
      "Total params: 27,284,493\n",
      "Trainable params: 27,284,493\n",
      "Non-trainable params: 0\n",
      "_________________________________________________________________\n",
      "None\n"
     ]
    },
    {
     "name": "stderr",
     "output_type": "stream",
     "text": [
      "/home/yasmine/jupyter/environment/lib/python3.8/site-packages/keras/optimizer_v2/adam.py:105: UserWarning: The `lr` argument is deprecated, use `learning_rate` instead.\n",
      "  super(Adam, self).__init__(name, **kwargs)\n"
     ]
    }
   ],
   "source": [
    "SIZE = 224 \n",
    "train_images,train_labels = shuffle(train_images,train_lables)\n",
    "\n",
    "''' Initializing the VGG16 with imagenet pretrained weights, with out including top 3 layers,\n",
    "Addition of custom layers and All layers of VGG16 is set to trainable'''\n",
    "\n",
    "class myCallback(Callback):\n",
    "    def on_epoch_end(self, epoch, logs={}):\n",
    "        if(logs.get('accuracy') is not None and logs.get('accuracy')>=0.95):\n",
    "          print(\"\\nReached 95% accuracy so cancelling training!\")\n",
    "          self.model.stop_training = True\n",
    "\n",
    "callbacks = myCallback()\n",
    "\n",
    "model = VGG16(input_shape=(SIZE, SIZE, 3),weights='imagenet', include_top=False)\n",
    "for layer in model.layers:\n",
    "    layer.trainable=True #setting VGG Layers to trainable\n",
    "output = model.output\n",
    "output = Flatten()(output)\n",
    "output = Dense(500,activation='relu')(output)\n",
    "output = Dense(50,activation='relu')(output)\n",
    "finallayer = Dense(5, activation='softmax')(output) \n",
    "\n",
    "model = Model(inputs = model.input, outputs=finallayer)\n",
    "\n",
    "model.compile(optimizer = Adam(lr = 1e-4), loss = 'categorical_crossentropy', metrics = ['accuracy'])\n",
    "\n",
    "\n",
    "print(model.summary())\n",
    "\n",
    " "
   ]
  },
  {
   "cell_type": "code",
   "execution_count": 14,
   "id": "ed6bd2da",
   "metadata": {},
   "outputs": [
    {
     "name": "stdout",
     "output_type": "stream",
     "text": [
      "Epoch 1/50\n",
      "4/4 - 82s - loss: 0.5222 - accuracy: 0.8393 - val_loss: 0.4802 - val_accuracy: 0.8542 - 82s/epoch - 20s/step\n",
      "Epoch 2/50\n",
      "4/4 - 81s - loss: 0.3426 - accuracy: 0.8571 - val_loss: 0.1990 - val_accuracy: 0.8958 - 81s/epoch - 20s/step\n",
      "Epoch 3/50\n",
      "4/4 - 81s - loss: 0.2006 - accuracy: 0.9375 - val_loss: 0.2407 - val_accuracy: 0.9792 - 81s/epoch - 20s/step\n",
      "Epoch 4/50\n",
      "\n",
      "Reached 95% accuracy so cancelling training!\n",
      "4/4 - 82s - loss: 0.1077 - accuracy: 0.9732 - val_loss: 0.0882 - val_accuracy: 0.9792 - 82s/epoch - 20s/step\n"
     ]
    }
   ],
   "source": [
    "history = model.fit(aug.flow(train_images,train_labels, batch_size=32), validation_data=aug.flow(test_images, test_lables, batch_size=8),epochs=50, verbose=2, shuffle=True,callbacks=[callbacks])\n"
   ]
  },
  {
   "cell_type": "code",
   "execution_count": 15,
   "id": "d44430fa",
   "metadata": {},
   "outputs": [],
   "source": [
    "model.save(\"VGG16_DocClassifierv3.model\", save_format=\"h5\")"
   ]
  },
  {
   "cell_type": "code",
   "execution_count": 36,
   "id": "ed4b71df",
   "metadata": {},
   "outputs": [
    {
     "name": "stdout",
     "output_type": "stream",
     "text": [
      "(32,)\n"
     ]
    }
   ],
   "source": [
    "print(test_lables.shape)"
   ]
  },
  {
   "cell_type": "code",
   "execution_count": 16,
   "id": "a79c3b04",
   "metadata": {},
   "outputs": [
    {
     "name": "stdout",
     "output_type": "stream",
     "text": [
      "2/2 [==============================] - 9s 2s/step - loss: 0.0277 - accuracy: 1.0000\n"
     ]
    }
   ],
   "source": [
    "result = updated_model.evaluate(test_images,test_lables)"
   ]
  },
  {
   "cell_type": "code",
   "execution_count": 42,
   "id": "236aeae7",
   "metadata": {},
   "outputs": [
    {
     "name": "stdout",
     "output_type": "stream",
     "text": [
      "[0.10545714199542999, 1.0]\n"
     ]
    }
   ],
   "source": [
    "print(result)"
   ]
  },
  {
   "cell_type": "code",
   "execution_count": 17,
   "id": "02abc850",
   "metadata": {},
   "outputs": [
    {
     "name": "stderr",
     "output_type": "stream",
     "text": [
      "The PostScript backend does not support transparency; partially transparent artists will be rendered opaque.\n"
     ]
    },
    {
     "data": {
      "image/png": "[encoded data removed]",
      "text/plain": [
       "<Figure size 432x288 with 1 Axes>"
      ]
     },
     "metadata": {
      "needs_background": "light"
     },
     "output_type": "display_data"
    },
    {
     "name": "stderr",
     "output_type": "stream",
     "text": [
      "The PostScript backend does not support transparency; partially transparent artists will be rendered opaque.\n"
     ]
    },
    {
     "data": {
      "image/png": "[encoded data removed]",
      "text/plain": [
       "<Figure size 432x288 with 1 Axes>"
      ]
     },
     "metadata": {
      "needs_background": "light"
     },
     "output_type": "display_data"
    }
   ],
   "source": [
    "plt.plot(history.history['accuracy'])\n",
    "plt.plot(history.history['val_accuracy'])\n",
    "plt.title('model accuracy')\n",
    "plt.ylabel('accuracy')\n",
    "plt.xlabel('epoch')\n",
    "plt.legend(['train', 'validation'], loc='upper left')\n",
    "plt.savefig('destination_path.eps', format='eps', dpi=1000)\n",
    "plt.show()\n",
    "# summarize history for loss\n",
    "plt.plot(history.history['loss'])\n",
    "plt.plot(history.history['val_loss'])\n",
    "plt.title('model loss')\n",
    "plt.ylabel('loss')\n",
    "plt.xlabel('epoch')\n",
    "plt.legend(['train', 'validation'], loc='upper left')\n",
    "plt.savefig('destination_path1.eps', format='eps', dpi=1000)\n",
    "plt.show()"
   ]
  },
  {
   "cell_type": "code",
   "execution_count": null,
   "id": "890200c2",
   "metadata": {},
   "outputs": [],
   "source": []
  }
 ],
 "metadata": {
  "kernelspec": {
   "display_name": "Python 3 (ipykernel)",
   "language": "python",
   "name": "python3"
  },
  "language_info": {
   "codemirror_mode": {
    "name": "ipython",
    "version": 3
   },
   "file_extension": ".py",
   "mimetype": "text/x-python",
   "name": "python",
   "nbconvert_exporter": "python",
   "pygments_lexer": "ipython3",
   "version": "3.8.10"
  }
 },
 "nbformat": 4,
 "nbformat_minor": 5
}
